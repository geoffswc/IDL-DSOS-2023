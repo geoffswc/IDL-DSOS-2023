{
 "cells": [
  {
   "cell_type": "markdown",
   "id": "54b912ee",
   "metadata": {},
   "source": [
    "## Precision-Recall Curves\n",
    "\n",
    "### Overview\n",
    "\n",
    "This workbook explores the use of precision-recall curves to find appropriate threshold for applying a metadata tag to an uncategorized media type based on machine-learning based category probabilities.\n",
    "\n",
    "### Method\n",
    "\n",
    "We use a previously trained supervised classification model (Random Forest) based on human-assigned metadata category tages for digigal media based on transcriptions. Metadata tags include tobacco, opioid, health, legal, marketing, news report, youth.\n",
    "\n",
    "With the exception of tobacco and opiod (which are assigned based on the original collection source for the document), none of these tags appear in more than 10% of the documents. As a result, we are dealing with an imbalanced binary classification model, where the inclusion of a tag would occur only 10% of the time. Because of this, a model that suggests a probability of positive classification of 20% may indicate that we should include the tag in search results. \n",
    "\n",
    "The harm of false positives or negatives depends heavily on the research or use scenario. For example, a researcher who wants to retrieve all resonably positive matches and is not concerned with the inclusion of a few documents that are not related to litigation might want to set the threshold very low, even below 10%. Alternatively, a researcher might simply wish to sample a small number of litigation-related documents with a very high level of accuracy. In this case, a high threshold would be more beneficial.\n",
    "|\n",
    "### Technical Considerations\n",
    "\n",
    "Because our initial dataset is small (only 300 human reviewed records are available for supervised classification), and many of the tags only show up in 10% of the records, we limit our initial analysis to a small set of metadata tags. Because these tags are human-generated and did not conform to a limited and controlled vocabulary, there is inconsistency in the training data as well. Some tags are redundant, always (or nearly always) showing up in clusters (legal and litigation, for instance, have a 95%+ overlap). Other times, two categories that might be better approached as a single category cause a split that may greatly reduce the effectiveness of an ML based classifier. Human ambiguity is often amplified when used to train ML models, and we see that effect at work here.\n",
    "\n",
    "### Precision-Recall Curves.\n",
    "\n",
    "Because there is a class imbalance between positive and negative categorization (including vs excluding a tag) and false positives are unlikely to be a serious problem (though, as discussed above, there may be some scenarios, such as sampling, where we would want to avoid them), we'll take a look at precision-recall curves for a few of the more commonly occuring tabs. \n",
    "\n",
    "__ provides a good overview for Precision-Recall curves:\n",
    "\n",
    "For quick reference, *Precision* refers to how often a positive classification was correct. For example, if our model predicted that a \"Legal\" tag should apply to record correctly 9 times and incorrectly 1 time, the Precision would be 90%. *Recall* refers to how often a positive classification was accurately detected. For example, if 10 records should have been classified as Legal, and our model detected 8 of them, our recall rate would be 80%. Ideally, we would like to strike some kind of balance between these two metrics, something we can achieve by raising or lowering the probability threshold for including a record in a tag. For example, if our model assigned a 30% change that a particular record should be classified as \"Legal\", we might or might not set that assignment based on whether we are trying to improve precision or recall. \n",
    "\n",
    "### Workbook\n",
    "\n",
    "This workbook uses the scikit-plot module from scikit-learn to generate a precison-recall curves for a tag used in the classification model. Keep in mind that there isn't much benefit to analyzing tags that show up in less than 10% of the records, and some tags may result in an error, as positive observations may be so rare (fewer than 1-2% of the records) that there is insufficient data to train or apply an ML model (a random test/train split may have *no* observations for a rare tag such a small dataset). \n",
    "\n",
    "### Visualization and Interpretation\n",
    "\n",
    "This section displays the PR curve for \"Legal\", a tag that shows up in approximately 10% of the training records. Keep in mind that common tags like \"Tobacco\", which show up in 90% of the records, are auto-assigned based on the source of the collection, and do not represent the common use case. "
   ]
  },
  {
   "attachments": {
    "Precision-Recall.png": {
     "image/png": "[encoded data removed]"
    }
   },
   "cell_type": "markdown",
   "id": "b474395e",
   "metadata": {},
   "source": [
    "#### Precision-Recall\n",
    "\n",
    "The precision recall curve for Legal indicates a wide threshold range that preserves usable precision and recall levels. Very high or low thresholds cause degradation of model performace, but precision and recall above 80% are available with flexibility to optimize for one or the other\n",
    "\n",
    "![Precision-Recall.png](attachment:Precision-Recall.png)"
   ]
  },
  {
   "attachments": {
    "PrecisionRecall-Threshold.png": {
     "image/png": "[encoded data removed]"
    }
   },
   "cell_type": "markdown",
   "id": "16240ac1",
   "metadata": {},
   "source": [
    "#### Precision/Recall-Threshold\n",
    "\n",
    "This chart plots both precision and recall curves on the Y axis with the threshold level on the X axis. We see a rapid improvement of precision with a gradual, near-linear decrease in recall, indicating an effective threshold range well below 50%. \n",
    "\n",
    "![PrecisionRecall-Threshold.png](attachment:PrecisionRecall-Threshold.png)"
   ]
  },
  {
   "cell_type": "markdown",
   "id": "6f546044",
   "metadata": {},
   "source": [
    "### Production Application\n",
    "\n",
    "Although our current data set is small, initial results suggest that there is some value in using a a supervised classification model to extend metata to uncategorized documents based on ML generated transcript. \n",
    "\n",
    "Integrating these techniques into production would involve a number of decisions that are outside the scope of this pilot. Different research objectives may require different thresholds, and with 1.7 million documents in the archive (many without transcripts), it may not be realistic to provide researchers with a way to set a custom threshold that performs reasonably within time constraints and can be integrated into the existing UI and application architecture. A more promising route might be to include probability estimates relative to tag frequency in auto-generated research-generated data sets. Lastly, all of this depends on the availability of transcriptions for video and audio related documents, an expensive and time consuming proposition that may not be available for some time. And once those transcriptions are available and indexed, a general term search with document relevance ranking may be more valuable than an ML-based supervised classification score. \n",
    "\n",
    "### Conclusion\n",
    "\n",
    "This pilot provides a template for an interesting and promising approach, and researchers may be interested in building their own ML models to analyze the transcript data. However, all this work is dependent on the availability of meaningful transcriptions. For now, priority should be on generating and updating transcription datasets for researchers based on recent improvements in AI-based transcription technology. "
   ]
  },
  {
   "cell_type": "code",
   "execution_count": 1,
   "id": "255ad996",
   "metadata": {},
   "outputs": [],
   "source": [
    "#!pip install scikit-plot"
   ]
  },
  {
   "cell_type": "code",
   "execution_count": 2,
   "id": "dbc1347b",
   "metadata": {},
   "outputs": [],
   "source": [
    "import pandas as pd\n",
    "from pandasql import sqldf\n",
    "from sklearn.model_selection import train_test_split\n",
    "from sklearn.pipeline import Pipeline\n",
    "from sklearn.feature_extraction.text import TfidfTransformer\n",
    "from sklearn.feature_extraction.text import CountVectorizer\n",
    "from sklearn.ensemble import RandomForestClassifier\n",
    "from sklearn.metrics import precision_recall_fscore_support\n",
    "from sklearn.metrics import precision_recall_curve\n",
    "from sklearn.model_selection import cross_val_score\n",
    "import nltk\n",
    "from nltk.corpus import stopwords\n",
    "import sklearn.metrics as metrics\n",
    "import scikitplot as skplt\n",
    "import matplotlib.pyplot as plt\n",
    "from sklearn.metrics import PrecisionRecallDisplay"
   ]
  },
  {
   "cell_type": "code",
   "execution_count": 3,
   "id": "7e35b14a",
   "metadata": {},
   "outputs": [],
   "source": [
    "stop = stopwords.words('english')"
   ]
  },
  {
   "cell_type": "code",
   "execution_count": 4,
   "id": "70874023",
   "metadata": {},
   "outputs": [],
   "source": [
    "pd.set_option('display.max_colwidth', 70)\n",
    "pd.set_option('display.max_rows', None)"
   ]
  },
  {
   "cell_type": "code",
   "execution_count": 5,
   "id": "feef5430",
   "metadata": {},
   "outputs": [],
   "source": [
    "pysqldf = lambda q: sqldf(q, globals())"
   ]
  },
  {
   "cell_type": "code",
   "execution_count": 6,
   "id": "09412d3f",
   "metadata": {},
   "outputs": [],
   "source": [
    "# setting a couple of workbook variables\n",
    "text_source = \"transcript\"\n",
    "tag = \"legal\""
   ]
  },
  {
   "cell_type": "code",
   "execution_count": 7,
   "id": "b94d4410",
   "metadata": {},
   "outputs": [],
   "source": [
    "df_human = pd.read_csv(\"data/classifications.csv\")\n",
    "df_ml = pd.read_csv(\"data/transcript_accuracy.csv\")"
   ]
  },
  {
   "cell_type": "code",
   "execution_count": 8,
   "id": "fb62c8fa",
   "metadata": {},
   "outputs": [],
   "source": [
    "df_dataset = pysqldf(f\"\"\"\n",
    "SELECT dh.*, dml.{text_source}, dml.`avg(confidence)` as avg_confidence\n",
    "FROM \n",
    "    df_human dh\n",
    "JOIN\n",
    "    df_ml dml\n",
    "ON dh.ID = dml.id\n",
    "    WHERE description is not NULL\n",
    "    AND description != 'error code 224003'\n",
    "    AND subject NOT LIKE '%href%'\n",
    "\"\"\")"
   ]
  },
  {
   "cell_type": "code",
   "execution_count": 9,
   "id": "1076890e",
   "metadata": {},
   "outputs": [],
   "source": [
    "df = pysqldf(f\"\"\"\n",
    "SELECT \n",
    "    ID,\n",
    "    subject,  \n",
    "    {text_source},\n",
    "    avg_confidence,\n",
    "    CASE\n",
    "        WHEN subject LIKE '%{tag}%' THEN 1\n",
    "        ELSE 0\n",
    "    END AS category\n",
    "FROM df_dataset\n",
    "\"\"\")"
   ]
  },
  {
   "cell_type": "code",
   "execution_count": 10,
   "id": "9416f23d",
   "metadata": {},
   "outputs": [],
   "source": [
    "df.set_index(\"ID\", inplace=True)"
   ]
  },
  {
   "cell_type": "code",
   "execution_count": 11,
   "id": "01da8fb7",
   "metadata": {},
   "outputs": [],
   "source": [
    "df_train, df_test = train_test_split(df, test_size=0.5)"
   ]
  },
  {
   "cell_type": "code",
   "execution_count": 12,
   "id": "4f873bc5",
   "metadata": {},
   "outputs": [],
   "source": [
    "text_clf = Pipeline([\n",
    "    ('vect', CountVectorizer(stop_words=stop)),\n",
    "    ('clf', RandomForestClassifier())\n",
    "    ])"
   ]
  },
  {
   "cell_type": "code",
   "execution_count": 13,
   "id": "b40726b6",
   "metadata": {},
   "outputs": [],
   "source": [
    "X_train = text_clf['vect'].fit_transform(df_train[text_source])"
   ]
  },
  {
   "cell_type": "code",
   "execution_count": 14,
   "id": "e206b04a",
   "metadata": {},
   "outputs": [],
   "source": [
    "pd.set_option('display.max_rows', None)"
   ]
  },
  {
   "cell_type": "code",
   "execution_count": 15,
   "id": "cddf5e7e",
   "metadata": {},
   "outputs": [],
   "source": [
    "X_train = text_clf.fit(df_train[text_source], df_train['category'])"
   ]
  },
  {
   "cell_type": "code",
   "execution_count": 16,
   "id": "cac91bc6",
   "metadata": {},
   "outputs": [],
   "source": [
    "feature_df = pd.DataFrame({\"feature\": text_clf['vect'].get_feature_names_out(), \n",
    "                           'importance': text_clf['clf'].feature_importances_})"
   ]
  },
  {
   "cell_type": "code",
   "execution_count": 17,
   "id": "12fde109",
   "metadata": {},
   "outputs": [],
   "source": [
    "y_proba = text_clf.predict_proba(df_test[text_source])\n",
    "y_true = df_test['category']"
   ]
  },
  {
   "cell_type": "code",
   "execution_count": 18,
   "id": "3267cd96",
   "metadata": {},
   "outputs": [],
   "source": [
    "y_pred = [y_proba[i][1] for i in range(len(y_proba))]"
   ]
  },
  {
   "cell_type": "code",
   "execution_count": 19,
   "id": "c95f5411",
   "metadata": {},
   "outputs": [],
   "source": [
    "import numpy as np\n",
    "from sklearn.metrics import precision_recall_curve\n",
    "precision, recall, thresholds = precision_recall_curve(y_true, y_pred)\n",
    "precision = list(precision)\n",
    "recall = list(recall)\n",
    "thresholds = list(thresholds) + [1]"
   ]
  },
  {
   "cell_type": "code",
   "execution_count": 20,
   "id": "e20243c0",
   "metadata": {},
   "outputs": [
    {
     "data": {
      "image/png": "[encoded data removed]",
      "text/plain": [
       "<Figure size 432x288 with 1 Axes>"
      ]
     },
     "metadata": {
      "needs_background": "light"
     },
     "output_type": "display_data"
    }
   ],
   "source": [
    "disp = PrecisionRecallDisplay(precision=precision, recall=recall)\n",
    "disp.plot()\n",
    "plt.show()"
   ]
  },
  {
   "cell_type": "code",
   "execution_count": 21,
   "id": "31bde19d",
   "metadata": {},
   "outputs": [
    {
     "data": {
      "image/png": "[encoded data removed]",
      "text/plain": [
       "<Figure size 432x288 with 1 Axes>"
      ]
     },
     "metadata": {
      "needs_background": "light"
     },
     "output_type": "display_data"
    }
   ],
   "source": [
    "import matplotlib.pyplot as plt\n",
    "import numpy as np\n",
    "\n",
    "xticks = thresholds\n",
    "plt.plot(thresholds, list(recall), label=\"Recall\")\n",
    "plt.plot(thresholds, list(precision), label=\"Precision\")\n",
    "leg = plt.legend()\n",
    "plt.show()"
   ]
  },
  {
   "cell_type": "code",
   "execution_count": 22,
   "id": "183ebc76",
   "metadata": {},
   "outputs": [],
   "source": [
    "df = pd.DataFrame({'threshold':thresholds, 'precision':precision, 'recall':recall})"
   ]
  },
  {
   "cell_type": "code",
   "execution_count": null,
   "id": "f9d8bd9d",
   "metadata": {},
   "outputs": [],
   "source": []
  },
  {
   "cell_type": "code",
   "execution_count": null,
   "id": "a46bca39",
   "metadata": {},
   "outputs": [],
   "source": []
  }
 ],
 "metadata": {
  "kernelspec": {
   "display_name": "Python 3 (ipykernel)",
   "language": "python",
   "name": "python3"
  },
  "language_info": {
   "codemirror_mode": {
    "name": "ipython",
    "version": 3
   },
   "file_extension": ".py",
   "mimetype": "text/x-python",
   "name": "python",
   "nbconvert_exporter": "python",
   "pygments_lexer": "ipython3",
   "version": "3.9.7"
  }
 },
 "nbformat": 4,
 "nbformat_minor": 5
}
