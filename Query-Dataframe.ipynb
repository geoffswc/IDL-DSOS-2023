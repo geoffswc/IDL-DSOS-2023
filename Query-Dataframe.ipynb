{
 "cells": [
  {
   "cell_type": "code",
   "execution_count": null,
   "id": "c96de962",
   "metadata": {},
   "outputs": [],
   "source": [
    "# for an overview of pandas with python\n",
    "# https://courses.ucsf.edu/course/view.php?id=5296\n",
    "\n",
    "# for an overview of pandas and sql together\n",
    "# https://courses.ucsf.edu/course/view.php?id=5203"
   ]
  },
  {
   "cell_type": "code",
   "execution_count": 1,
   "id": "1f967966",
   "metadata": {},
   "outputs": [],
   "source": [
    "import pandas as pd\n",
    "from pandasql import sqldf\n",
    "pysqldf = lambda q: sqldf(q, globals())"
   ]
  },
  {
   "cell_type": "code",
   "execution_count": 2,
   "id": "8ea80402",
   "metadata": {},
   "outputs": [],
   "source": [
    "pd.set_option('display.max_colwidth', 50)\n",
    "#pd.set_option('display.max_columns', None)\n",
    "#pd.set_option('display.max_rows', None"
   ]
  },
  {
   "cell_type": "code",
   "execution_count": 21,
   "id": "3b95b12f",
   "metadata": {},
   "outputs": [],
   "source": [
    "df = pd.read_csv('data/overlap.csv')\n",
    "df.drop(columns=['ID'],inplace=True)"
   ]
  },
  {
   "cell_type": "code",
   "execution_count": 22,
   "id": "d70d258e",
   "metadata": {},
   "outputs": [],
   "source": [
    "#df = df[:1]"
   ]
  },
  {
   "cell_type": "code",
   "execution_count": 23,
   "id": "ef3bcabd",
   "metadata": {},
   "outputs": [
    {
     "data": {
      "text/plain": [
       "id                                                          ffhb0039\n",
       "transcript         even more rare, what we'll do is just start in...\n",
       "avg(confidence)                                             0.815878\n",
       "min(confidence)                                             0.678585\n",
       "max(confidence)                                             0.912839\n",
       "description                                                      NaN\n",
       "subject            tobacco; cigarette;<a href='http://www.archive...\n",
       "title              TAMPA TAPE 7 /CAMERA 1 DAN CHENOWETCH 5/15/95 ...\n",
       "runtime                                                          NaN\n",
       "Name: 0, dtype: object"
      ]
     },
     "execution_count": 23,
     "metadata": {},
     "output_type": "execute_result"
    }
   ],
   "source": [
    "df.iloc[0]"
   ]
  },
  {
   "cell_type": "code",
   "execution_count": 24,
   "id": "58c30d42",
   "metadata": {},
   "outputs": [
    {
     "data": {
      "text/plain": [
       "\"even more rare, what we'll do is just start in this is so I can figure out who you guys are going to get home if you could just start by stating your name my name is Theresa I live here in Safety Harbor what what brand of, music once tonight 100's order a light one hundredths okay how long have you been smoking like what's a Winston and that combination that combination probably 15 years more 15 years ago it's always Winston yeah well I started off and I was a kid at foot Carrington's the different ones but when since I've sucked okay we're about to dance my name is Deanna from st. Pete I smoked camel like 100's, I've been smoking them now for about 1215 years he ever switch around between Brands just camel regulars the light and in between us thinking basically camel okay how did you all did you guys come in and go to a group with a lot of other people if both of you haven't okay and then if you remember back then they were talking about what it's like to be a smoker today and kind of how people's attitudes have changed towards smokers, have you personally either one of you notice that practically okay like go ahead and I mean what what is it like to be a smoker and safety today and how has it changed recently not so much in STP but I travel their planes in the days when you could smoke you had to sit in the back of the plane but even now an airport you got to physically leave the airport in order to have a cigarette and you got to go back to security and all the hassles of trying to run for planes and it's true, aggravating and then you got the smoking cars non-smoking cars converted a few what about you Teresa mean what's it like might notice right now you can't smoke them all if you want to smoke we have to let it go outside and if you do smoke anywhere by just looks at you like you have dirt on your face or something you know it's just a bad person has spoken what is just as the reacting to what do you think how secondhand smoke probably, such a big deal with that right now all right that mainly here's the main thing I say also they don't like the owner or the the smoke and paper plane to make its knees or irritates her nose or what have you and they don't like the smell on their clothes I'm curious in either either one of y'all can go go on this one when you first before you got to try this cigarette before you get to the first try of a cliff so you start hearing about it and you were sitting, a group and then what kind of thoughts are going through your mind what we what were you thinking truth yeah I thought was a good idea it's you know smoke for me I'm free I thought I was pretty good idea did you have any did you anticipate anything as far as like what it would taste like or before I try to change my voice right now I just feel you're just interested yeah yeah I just thought the concept was really nice yeah what about you Dan what were you, thinking yeah I think the concepts excellent that it's basically trying to help out the defenseless smokers this point I think like basically turning us into closet smokers from you guys get the comments they don't mind you smoking just don't exhale but I thought it was very unique and a new wave of where the smokers going to go I was concerned about the flavor and it tastes because primarily that's what I like about it, camels I do find a difference between camels Winston's and lights and Ultras and those kind of things that have tried in the past but that was pretty important also what did you think did you have a nice digit guess like what it would taste like no no I I tried both the Menthol and then I'm involved just to try both of them during a class I used to smoke cools years ago the irritated my throat for me back to the non menthols okay, what it all just keep going with you Dan what was it like them that first time I think you got to try them in those groups as what did you think of the startup was tough basically they told us to who's like a cigar and the women fared because they don't know how to smoke too many cigars but you got to really draw a hard to get it going and to me it seemed like I had to draw a hard to keep it going the flavor was different what I kind of turned it back, back to was like like when the Fantage first came out it had a like a twang to it and a little bit of a bite that's probably the only thing that really would be negative on my side would be the flavor leaves a little bit after by kind of like maybe smoking a cigar, okay what about you Teresa what was your I mean when you were in there and you try to hustle well it was awfully hard to life as hard to smoke and a sex machine learning to smoke all over again it was real hard to smoke what did you think about the taste when you finally face them well I normally smells like cigarettes and the light when I try there's no flavor at all because I didn't think that was so I went I could try the full flavor that's a little better, not much not much now now I'm not I like the whole idea but I really do and I hope they can improve on it somehow but it's too hard to smoke you smoke at you just like I'm on a cigarette now I want a real cigarette I feel like I'm playing so in your case is not really satisfying you knocked around by 10 degree I smoked them with my camels and you know I'll tell you the alternating back and forth, It's like playing yeah it's like okay now I want to my break now I want a real cigarette yeah what now how much you have to pack Cinema think as a first step right and then a carton or did you just take the cart just the car okay so both of you have smoked the car you didn't know okay when you smoke the car what did you notice anything, front like the people noticed that the state was a different kind of cigarette to show it to anybody I had a lot of comments everybody that was near me when I was smoking had a comment it was very much A Conversation Piece a couple folks had to try it never quite finished it the biggest thing with secretaries day was that week and we had non smoker smoking them the girls that don't smoke we went out to us with lunch and we went for when I go to a smoking table for them and we got this, smoking table and I'm passing these out knowing people that place and I kind of thought maybe what are they smoking in passing around over there because we were all talking and really going on about the cigarettes and really became a attraction of like eight people in the corner of Steak and Ale so it they they didn't they commented like the same thing it's too hard to draw part about a few comments that got everybody's attention about how hard they had to draw it anyway, particular means it was arranged was there anyone that just liked it and tried it there any I don't think so they are the smokers preferred they were there all Winston regulars and Winston selects they smoke the regular not the lights and the girls they don't smoke at all they were ever kind of they weren't gagging and nothing but they never like this is different they all thought it was unique that we lay it in the ashtray and there wouldn't be any smoke or thing, they never got smaller as like you know when you're done, how do you how would you answer something like that someone asked you how do you do basically I said there's no more smoke left I had several of tried to relight it and nothing came out and you're done okay let me just, you were talking about when you know they're done you were talking about we need when you know it was done or when you go to these let's say I'm near your friend I come up the I said well they last as long as a normal cigarette, so pretty much I put the three to five minutes is basically what I saw and what they told us it would last and that's about what it lasted I didn't really try the thing they said you could lay it down for two or three minutes of pick it back up generally I don't claim the cigarettes down even even normals I generally hold on to him and I go out more often than that but I found the last 45 minutes okay what about you Teresa did you get an opportunity to show these to anybody I can't get away, mostly girls that work it in like them because they're going to go he had one what do you how do you I mean what would you say to them when they were they see it first or would you say hey look at this new cigarette well they knew I was coming here to start with for the survey and so they wanted to try it and, what they thought of a genuine are really interested in like how do you how did you start the conversation and say hey guess what yeah well I thought I went to a survey and they understood the cigarette smoke free no ashes you know to try and what were their reactions they were always the same no one really yeah nobody okay and what was the biggest was it taste yeah because you have to draw too hard on, you really I mean Vivid light in it they can get anything at all and I'm your smoke on it have to be lighted and play with the quite a bit to get it to light up the women that had to try to have more problems with the taste and then was worried about him going out some of them first thought that was a cigarette load in the end it's going to blow up it's a gag cigarette never like don't like you said I'm smoking one you're waiting in their way it's pretty good, is this something that can address me earlier today when we were talking with it that a lot of non are we're getting a lot of pressure smokers are getting a lot of pressure from the fact that there's a secondhand smoke and this is a great is able to produce secondhand smoke a lot is it you know where does it come fit into the picture of what's going on out there today you know like we're talking about earlier as a cigarette that does reduce, it's move significantly where where does this fit in I think in restaurants main issue with areas that are basically going smoke-free totally the smokers are taking their business they're they're going elsewhere I think they would try to track that business back I know for a fact the airport's that's lounges in the bars where they used to crowd everybody to smoke that they would make you you couldn't stand in Smoke you had that have a cold, good beer or something they're spending money now these lounges rmp when I walk through them now they're really being hurt their business is down 40 to 60% from the bartender's I've talked to and they're kind of lobbying to get smoking back because the tip money, you think this plate would play a role in this I think that would isolate that area again where we used to be with the crowded smoke-filled rooms it would be reduced down because that seemed to be the biggest complaint that was the smoke-filled rooms they would still allow us to sit there and smoke, what about you Teresa do you see this the cigarette nice if I would I don't think it will I don't think anybody's gonna it's not a smoking now I don't think I'll ever go back and say okay you can smoke if you smoke this new cigarette I don't see that ever happening what about I mean you guys are it sounds like most people that you showed it to really didn't like it that much, I'm curious in the group that you were in when you came in here and talk to that what was the reaction of the group do you remember next what do you think the cigarette is for who do you think would like to cigarette in you can you think of anyone people smoke in their own homes they're going to like it if you have kids maybe smoke in the house they'll like it or if you put smoke in the car because they don't want the odor in the car, okay is this a cigarette that if you were going to watch it let's say you're watching this video and you're working back when Winston Salem on this this cigarette getting two clips ready do you Market this cigarette the cigarette that should be out on the market because it produces secondhand smoke by sunlight and has some benefits to it just check it out we have to improve it a little first make it easier to like make it, it easier lines of you know so teachers Funk means the flavor I think it's very well Market, do you think it's marketable right now if we put it on the market tomorrow t think so probably not the same initially go because of the concept and the uniqueness, but primarily I smoke for the flavor, that's enough so much the drawing on it or the toughness but the flavor of feeling that satisfy my craving okay Teresa you said that you had showed it to some people I guess at work right did you show it to anybody else or did I'm curious did anyone stop either one of you two and actually notice it without you bringing it up if they didn't tell me about that how did that happen and what was what went on like what kind of, and when I do this fellas a nonsmoker and his wife smokes and he's basically kind of rides her all the time and he rides the used to be our plant manager and I was sitting directly beside him and he was noticing that I wasn't burying him to smoke because he generally tries to scoot away from you please smoke while I started telling him about it and he picks it up and thought it looked kind of kind of neat course I told her put down in the napkins the look at money burning anything he thought it was, pretty neat idea, but his thoughts ours no smoking at all he's quit 30 years ago or whatever and he's preaching to his wife quit, I did find that during that time period of that week I smoke probably 30 to 40% more than I normally would have because I had the interim of my camels in between which is back to that satisfaction, okay so I'm curious let's say out of the cities around on the market today would you buy in an average week how much do you how many cigarettes how many packs do you smoke a day one pack two bags are about two pounds to back okay added so that means seven days it's about 14 packs out of this 14 packs would you smoke any eclipse the pack of eclipses are none During the period of the 10 packs of the clips I smoke probably five to, six packs of camels along with which is a little bit more than what I generally spoke to some it varies from time to time because we're smoked us if were depending on if I'm outside of our plan or not I smoke more or I smoked half apples which increases the Pack level today of a smoking area at your work I mean like a slight a designated smoking area yes did you smoke any of these eclipses in there what were people saying I mean people, you're stunning they want to try them so maybe I didn't smoke as many of the of the full pardon I did probably passed out during that interval maybe up to two packs during that time frame when you gave the cigarettes to people what would you say to them just try I want you to explain like the fact that there's sometimes I would tell them because they would see the white pack or the no name on it like what are these and they start asking questions and some I would answer in some other life find out just asked what they thought of them, I'll do my own little survey and and so that's what you were talking about earlier we're not not in I guess no one liked the flavor they didn't care for the drawing part is about it but other than that the thing is they like the uniqueness the single ones thought they were vague great conversation pieces of bringing up conversation, and of course others that have a spouse at home that doesn't like that the smoke about it was great so you can actually taste and hard to draw see ya, what should the government's attitude be toward Reynolds in this cigarette should because right now the government's pretty clear on how they stand on smoking I mean you can't smoke at any public buildings are chords like you had mentioned the military can't smoke in the military anymore what should the government's position Beyond cigarette like this should be any different than any other cigarette like they were probably going to bunch of testing, the biggest factor is the the glycerin difference in the tar nicotine there are pushing for my house standpoint on the individual as well as the second hand smoke and driving it with the second hand smoke people, okay what do you what do you think I mean what is it what should what position should be government on this there are any different than any other cigarette now they should research it I think make sure it's okay but I do think we should be like to smoke somewhere aggressive what say you and I can't see them saying you can smoke these clips in this little area but you can't smoke your Winston's I don't think that's right at all and I don't think they'll do that, um, okay that's it most guys do you have any questions mark thank you all I hope that\""
      ]
     },
     "execution_count": 24,
     "metadata": {},
     "output_type": "execute_result"
    }
   ],
   "source": [
    "df.iloc[0]['transcript']"
   ]
  },
  {
   "cell_type": "code",
   "execution_count": 25,
   "id": "23d586f5",
   "metadata": {},
   "outputs": [
    {
     "data": {
      "text/plain": [
       "nan"
      ]
     },
     "execution_count": 25,
     "metadata": {},
     "output_type": "execute_result"
    }
   ],
   "source": [
    "df.iloc[0]['description']"
   ]
  },
  {
   "cell_type": "code",
   "execution_count": 26,
   "id": "00059ab6",
   "metadata": {},
   "outputs": [
    {
     "data": {
      "text/plain": [
       "\"tobacco; cigarette;<a href='http://www.archive.org/browse.php?field=subject&mediatype=movies&collection=industry-archives'>Browse by keywords in UCSF industry videos</a>\""
      ]
     },
     "execution_count": 26,
     "metadata": {},
     "output_type": "execute_result"
    }
   ],
   "source": [
    "df.iloc[0]['subject']"
   ]
  },
  {
   "cell_type": "code",
   "execution_count": 27,
   "id": "b9a0b618",
   "metadata": {},
   "outputs": [
    {
     "data": {
      "text/html": [
       "<div>\n",
       "<style scoped>\n",
       "    .dataframe tbody tr th:only-of-type {\n",
       "        vertical-align: middle;\n",
       "    }\n",
       "\n",
       "    .dataframe tbody tr th {\n",
       "        vertical-align: top;\n",
       "    }\n",
       "\n",
       "    .dataframe thead th {\n",
       "        text-align: right;\n",
       "    }\n",
       "</style>\n",
       "<table border=\"1\" class=\"dataframe\">\n",
       "  <thead>\n",
       "    <tr style=\"text-align: right;\">\n",
       "      <th></th>\n",
       "      <th>description</th>\n",
       "      <th>subject</th>\n",
       "    </tr>\n",
       "  </thead>\n",
       "  <tbody>\n",
       "    <tr>\n",
       "      <th>0</th>\n",
       "      <td>None</td>\n",
       "      <td>tobacco; cigarette;&lt;a href='http://www.archive...</td>\n",
       "    </tr>\n",
       "    <tr>\n",
       "      <th>1</th>\n",
       "      <td>Deposition of Jeff Kilper in RE: National Pres...</td>\n",
       "      <td>lawsuit; legal activity; litigation; opioids; ...</td>\n",
       "    </tr>\n",
       "    <tr>\n",
       "      <th>2</th>\n",
       "      <td>None</td>\n",
       "      <td>tobacco; cigarette;&lt;a href='http://www.archive...</td>\n",
       "    </tr>\n",
       "    <tr>\n",
       "      <th>3</th>\n",
       "      <td>Deposition of Mark Trudeau in Re: State of Rho...</td>\n",
       "      <td>lawsuit; legal activity; litigation; opioids; ...</td>\n",
       "    </tr>\n",
       "    <tr>\n",
       "      <th>4</th>\n",
       "      <td>None</td>\n",
       "      <td>tobacco; cigarette;&lt;a href='http://www.archive...</td>\n",
       "    </tr>\n",
       "    <tr>\n",
       "      <th>...</th>\n",
       "      <td>...</td>\n",
       "      <td>...</td>\n",
       "    </tr>\n",
       "    <tr>\n",
       "      <th>191</th>\n",
       "      <td>Deposition of Todd Dean in RE: National Prescr...</td>\n",
       "      <td>lawsuit; legal activity; litigation; opioids; ...</td>\n",
       "    </tr>\n",
       "    <tr>\n",
       "      <th>192</th>\n",
       "      <td>None</td>\n",
       "      <td>tobacco; cigarette;  &lt;a href='http://www.archi...</td>\n",
       "    </tr>\n",
       "    <tr>\n",
       "      <th>193</th>\n",
       "      <td>None</td>\n",
       "      <td>tobacco; cigarette;&lt;a href='http://www.archive...</td>\n",
       "    </tr>\n",
       "    <tr>\n",
       "      <th>194</th>\n",
       "      <td>None</td>\n",
       "      <td>tobacco; cigarette;  &lt;a href='http://www.archi...</td>\n",
       "    </tr>\n",
       "    <tr>\n",
       "      <th>195</th>\n",
       "      <td>Clip from a focus group / interview - poor qua...</td>\n",
       "      <td>opioids; sales and marketing; focus group;  &lt;a...</td>\n",
       "    </tr>\n",
       "  </tbody>\n",
       "</table>\n",
       "<p>196 rows × 2 columns</p>\n",
       "</div>"
      ],
      "text/plain": [
       "                                           description  \\\n",
       "0                                                 None   \n",
       "1    Deposition of Jeff Kilper in RE: National Pres...   \n",
       "2                                                 None   \n",
       "3    Deposition of Mark Trudeau in Re: State of Rho...   \n",
       "4                                                 None   \n",
       "..                                                 ...   \n",
       "191  Deposition of Todd Dean in RE: National Prescr...   \n",
       "192                                               None   \n",
       "193                                               None   \n",
       "194                                               None   \n",
       "195  Clip from a focus group / interview - poor qua...   \n",
       "\n",
       "                                               subject  \n",
       "0    tobacco; cigarette;<a href='http://www.archive...  \n",
       "1    lawsuit; legal activity; litigation; opioids; ...  \n",
       "2    tobacco; cigarette;<a href='http://www.archive...  \n",
       "3    lawsuit; legal activity; litigation; opioids; ...  \n",
       "4    tobacco; cigarette;<a href='http://www.archive...  \n",
       "..                                                 ...  \n",
       "191  lawsuit; legal activity; litigation; opioids; ...  \n",
       "192  tobacco; cigarette;  <a href='http://www.archi...  \n",
       "193  tobacco; cigarette;<a href='http://www.archive...  \n",
       "194  tobacco; cigarette;  <a href='http://www.archi...  \n",
       "195  opioids; sales and marketing; focus group;  <a...  \n",
       "\n",
       "[196 rows x 2 columns]"
      ]
     },
     "execution_count": 27,
     "metadata": {},
     "output_type": "execute_result"
    }
   ],
   "source": [
    "pysqldf(\"SELECT description, subject FROM df\")"
   ]
  },
  {
   "cell_type": "code",
   "execution_count": 28,
   "id": "87a079ad",
   "metadata": {},
   "outputs": [],
   "source": [
    "df_missing_description = pysqldf(\"SELECT * FROM df WHERE description IS NULL\")"
   ]
  },
  {
   "cell_type": "code",
   "execution_count": 29,
   "id": "1511c71e",
   "metadata": {},
   "outputs": [
    {
     "data": {
      "text/html": [
       "<div>\n",
       "<style scoped>\n",
       "    .dataframe tbody tr th:only-of-type {\n",
       "        vertical-align: middle;\n",
       "    }\n",
       "\n",
       "    .dataframe tbody tr th {\n",
       "        vertical-align: top;\n",
       "    }\n",
       "\n",
       "    .dataframe thead th {\n",
       "        text-align: right;\n",
       "    }\n",
       "</style>\n",
       "<table border=\"1\" class=\"dataframe\">\n",
       "  <thead>\n",
       "    <tr style=\"text-align: right;\">\n",
       "      <th></th>\n",
       "      <th>id</th>\n",
       "      <th>transcript</th>\n",
       "      <th>avg(confidence)</th>\n",
       "      <th>min(confidence)</th>\n",
       "      <th>max(confidence)</th>\n",
       "      <th>description</th>\n",
       "      <th>subject</th>\n",
       "      <th>title</th>\n",
       "      <th>runtime</th>\n",
       "    </tr>\n",
       "  </thead>\n",
       "  <tbody>\n",
       "    <tr>\n",
       "      <th>0</th>\n",
       "      <td>ffhb0039</td>\n",
       "      <td>even more rare, what we'll do is just start in...</td>\n",
       "      <td>0.815878</td>\n",
       "      <td>0.678585</td>\n",
       "      <td>0.912839</td>\n",
       "      <td>None</td>\n",
       "      <td>tobacco; cigarette;&lt;a href='http://www.archive...</td>\n",
       "      <td>TAMPA TAPE 7 /CAMERA 1 DAN CHENOWETCH 5/15/95 ...</td>\n",
       "      <td>None</td>\n",
       "    </tr>\n",
       "    <tr>\n",
       "      <th>1</th>\n",
       "      <td>fghb0039</td>\n",
       "      <td>it's getting pretty late when I hit the trail ...</td>\n",
       "      <td>0.875157</td>\n",
       "      <td>0.749005</td>\n",
       "      <td>0.912839</td>\n",
       "      <td>None</td>\n",
       "      <td>tobacco; cigarette;&lt;a href='http://www.archive...</td>\n",
       "      <td>SM 200 RJ REYNOLDS TOBACCO COMPANY \"ON THE TRA...</td>\n",
       "      <td>None</td>\n",
       "    </tr>\n",
       "    <tr>\n",
       "      <th>2</th>\n",
       "      <td>fhfk0146</td>\n",
       "      <td>tonight from Washington Crossfire Saturday smo...</td>\n",
       "      <td>0.829022</td>\n",
       "      <td>0.646423</td>\n",
       "      <td>0.912839</td>\n",
       "      <td>None</td>\n",
       "      <td>tobacco; cigarette;&lt;a href='http://www.archive...</td>\n",
       "      <td>CROSSFIRE; CNN</td>\n",
       "      <td>None</td>\n",
       "    </tr>\n",
       "    <tr>\n",
       "      <th>3</th>\n",
       "      <td>fhgb0191</td>\n",
       "      <td>hey guys may I ask you a couple questions have...</td>\n",
       "      <td>0.830869</td>\n",
       "      <td>0.363029</td>\n",
       "      <td>0.912839</td>\n",
       "      <td>None</td>\n",
       "      <td>tobacco; cigarette; youth access; PSA;  &lt;a hre...</td>\n",
       "      <td>Y&amp;R PHILIP MORRIS USA YOUTH SMOKING PREVENTION...</td>\n",
       "      <td>None</td>\n",
       "    </tr>\n",
       "    <tr>\n",
       "      <th>4</th>\n",
       "      <td>fhhb0039</td>\n",
       "      <td>hello Doug this is Sarah McClurkin I think it'...</td>\n",
       "      <td>0.852050</td>\n",
       "      <td>0.547724</td>\n",
       "      <td>0.912839</td>\n",
       "      <td>None</td>\n",
       "      <td>tobacco; cigarette;&lt;a href='http://www.archive...</td>\n",
       "      <td>SM 106 ADCODE 05-24-91 (910424) LENGTH 13:30 D...</td>\n",
       "      <td>None</td>\n",
       "    </tr>\n",
       "    <tr>\n",
       "      <th>...</th>\n",
       "      <td>...</td>\n",
       "      <td>...</td>\n",
       "      <td>...</td>\n",
       "      <td>...</td>\n",
       "      <td>...</td>\n",
       "      <td>...</td>\n",
       "      <td>...</td>\n",
       "      <td>...</td>\n",
       "      <td>...</td>\n",
       "    </tr>\n",
       "    <tr>\n",
       "      <th>174</th>\n",
       "      <td>jzdk0146</td>\n",
       "      <td>playing a variety show that you're especially ...</td>\n",
       "      <td>0.843185</td>\n",
       "      <td>0.687729</td>\n",
       "      <td>0.912839</td>\n",
       "      <td>None</td>\n",
       "      <td>tobacco; cigarette;&lt;a href='http://www.archive...</td>\n",
       "      <td>AIRCHECK; CBS EVENING NEWS</td>\n",
       "      <td>None</td>\n",
       "    </tr>\n",
       "    <tr>\n",
       "      <th>175</th>\n",
       "      <td>jzgb0039</td>\n",
       "      <td>you were asked whether cigarette smoking cause...</td>\n",
       "      <td>0.857782</td>\n",
       "      <td>0.702027</td>\n",
       "      <td>0.912839</td>\n",
       "      <td>None</td>\n",
       "      <td>tobacco; cigarette;&lt;a href='http://www.archive...</td>\n",
       "      <td>NIGHTLINE - TOBACCO EXECS., 4/14/94 (940414) A...</td>\n",
       "      <td>None</td>\n",
       "    </tr>\n",
       "    <tr>\n",
       "      <th>176</th>\n",
       "      <td>jzwb0044</td>\n",
       "      <td>if you were to put together a concert tour ove...</td>\n",
       "      <td>0.849122</td>\n",
       "      <td>0.801936</td>\n",
       "      <td>0.912838</td>\n",
       "      <td>None</td>\n",
       "      <td>tobacco; cigarette;  &lt;a href='http://www.archi...</td>\n",
       "      <td>GMR MARKETING BENSON &amp; HEDGES 100 NIGHTS LIVE ...</td>\n",
       "      <td>None</td>\n",
       "    </tr>\n",
       "    <tr>\n",
       "      <th>177</th>\n",
       "      <td>kfhb0039</td>\n",
       "      <td>05 with my regular cigarette smoking around my...</td>\n",
       "      <td>0.824442</td>\n",
       "      <td>0.726735</td>\n",
       "      <td>0.912839</td>\n",
       "      <td>None</td>\n",
       "      <td>tobacco; cigarette;&lt;a href='http://www.archive...</td>\n",
       "      <td>C PROJECT HEALTH COMMENTS 10/3/95 (951003) (RU...</td>\n",
       "      <td>None</td>\n",
       "    </tr>\n",
       "    <tr>\n",
       "      <th>178</th>\n",
       "      <td>kfjw0178</td>\n",
       "      <td>good morning ladies and gentlemen and thank yo...</td>\n",
       "      <td>0.837354</td>\n",
       "      <td>0.498652</td>\n",
       "      <td>0.912839</td>\n",
       "      <td>None</td>\n",
       "      <td>tobacco; cigarette;  &lt;a href='http://www.archi...</td>\n",
       "      <td>DOWN TOBACCO ROAD</td>\n",
       "      <td>None</td>\n",
       "    </tr>\n",
       "  </tbody>\n",
       "</table>\n",
       "<p>179 rows × 9 columns</p>\n",
       "</div>"
      ],
      "text/plain": [
       "           id                                         transcript  \\\n",
       "0    ffhb0039  even more rare, what we'll do is just start in...   \n",
       "1    fghb0039  it's getting pretty late when I hit the trail ...   \n",
       "2    fhfk0146  tonight from Washington Crossfire Saturday smo...   \n",
       "3    fhgb0191  hey guys may I ask you a couple questions have...   \n",
       "4    fhhb0039  hello Doug this is Sarah McClurkin I think it'...   \n",
       "..        ...                                                ...   \n",
       "174  jzdk0146  playing a variety show that you're especially ...   \n",
       "175  jzgb0039  you were asked whether cigarette smoking cause...   \n",
       "176  jzwb0044  if you were to put together a concert tour ove...   \n",
       "177  kfhb0039  05 with my regular cigarette smoking around my...   \n",
       "178  kfjw0178  good morning ladies and gentlemen and thank yo...   \n",
       "\n",
       "     avg(confidence)  min(confidence)  max(confidence) description  \\\n",
       "0           0.815878         0.678585         0.912839        None   \n",
       "1           0.875157         0.749005         0.912839        None   \n",
       "2           0.829022         0.646423         0.912839        None   \n",
       "3           0.830869         0.363029         0.912839        None   \n",
       "4           0.852050         0.547724         0.912839        None   \n",
       "..               ...              ...              ...         ...   \n",
       "174         0.843185         0.687729         0.912839        None   \n",
       "175         0.857782         0.702027         0.912839        None   \n",
       "176         0.849122         0.801936         0.912838        None   \n",
       "177         0.824442         0.726735         0.912839        None   \n",
       "178         0.837354         0.498652         0.912839        None   \n",
       "\n",
       "                                               subject  \\\n",
       "0    tobacco; cigarette;<a href='http://www.archive...   \n",
       "1    tobacco; cigarette;<a href='http://www.archive...   \n",
       "2    tobacco; cigarette;<a href='http://www.archive...   \n",
       "3    tobacco; cigarette; youth access; PSA;  <a hre...   \n",
       "4    tobacco; cigarette;<a href='http://www.archive...   \n",
       "..                                                 ...   \n",
       "174  tobacco; cigarette;<a href='http://www.archive...   \n",
       "175  tobacco; cigarette;<a href='http://www.archive...   \n",
       "176  tobacco; cigarette;  <a href='http://www.archi...   \n",
       "177  tobacco; cigarette;<a href='http://www.archive...   \n",
       "178  tobacco; cigarette;  <a href='http://www.archi...   \n",
       "\n",
       "                                                 title runtime  \n",
       "0    TAMPA TAPE 7 /CAMERA 1 DAN CHENOWETCH 5/15/95 ...    None  \n",
       "1    SM 200 RJ REYNOLDS TOBACCO COMPANY \"ON THE TRA...    None  \n",
       "2                                       CROSSFIRE; CNN    None  \n",
       "3    Y&R PHILIP MORRIS USA YOUTH SMOKING PREVENTION...    None  \n",
       "4    SM 106 ADCODE 05-24-91 (910424) LENGTH 13:30 D...    None  \n",
       "..                                                 ...     ...  \n",
       "174                         AIRCHECK; CBS EVENING NEWS    None  \n",
       "175  NIGHTLINE - TOBACCO EXECS., 4/14/94 (940414) A...    None  \n",
       "176  GMR MARKETING BENSON & HEDGES 100 NIGHTS LIVE ...    None  \n",
       "177  C PROJECT HEALTH COMMENTS 10/3/95 (951003) (RU...    None  \n",
       "178                                  DOWN TOBACCO ROAD    None  \n",
       "\n",
       "[179 rows x 9 columns]"
      ]
     },
     "execution_count": 29,
     "metadata": {},
     "output_type": "execute_result"
    }
   ],
   "source": [
    "df_missing_description"
   ]
  },
  {
   "cell_type": "code",
   "execution_count": null,
   "id": "224b79d8",
   "metadata": {},
   "outputs": [],
   "source": []
  }
 ],
 "metadata": {
  "kernelspec": {
   "display_name": "Python 3 (ipykernel)",
   "language": "python",
   "name": "python3"
  },
  "language_info": {
   "codemirror_mode": {
    "name": "ipython",
    "version": 3
   },
   "file_extension": ".py",
   "mimetype": "text/x-python",
   "name": "python",
   "nbconvert_exporter": "python",
   "pygments_lexer": "ipython3",
   "version": "3.9.7"
  }
 },
 "nbformat": 4,
 "nbformat_minor": 5
}
