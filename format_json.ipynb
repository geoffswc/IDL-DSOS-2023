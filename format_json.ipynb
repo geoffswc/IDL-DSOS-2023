{
 "cells": [
  {
   "cell_type": "code",
   "execution_count": 1,
   "metadata": {},
   "outputs": [],
   "source": [
    "import json\n",
    "import pandas as pd\n",
    "import glob\n",
    "import pandas as pd\n",
    "from pandasql import sqldf\n",
    "pysqldf = lambda q: sqldf(q, globals())"
   ]
  },
  {
   "cell_type": "code",
   "execution_count": 2,
   "metadata": {},
   "outputs": [],
   "source": [
    "#pd.set_option('display.max_colwidth', None)\n",
    "pd.set_option('display.max_columns', None)\n",
    "#pd.set_option('display.max_rows', None)"
   ]
  },
  {
   "cell_type": "code",
   "execution_count": 3,
   "metadata": {},
   "outputs": [],
   "source": [
    "transcripts = []\n",
    "files = glob.glob('json_output/*.json')\n",
    "for file in files:\n",
    "    with open(file) as f:\n",
    "        transcripts.append([file.split('/')[-1], json.load(f)])"
   ]
  },
  {
   "cell_type": "code",
   "execution_count": 1,
   "metadata": {},
   "outputs": [],
   "source": [
    "#print(transcripts[0])"
   ]
  },
  {
   "cell_type": "code",
   "execution_count": 5,
   "metadata": {},
   "outputs": [
    {
     "data": {
      "text/plain": [
       "'opioids_tqph0257_opioids_tqph0257.json'"
      ]
     },
     "execution_count": 5,
     "metadata": {},
     "output_type": "execute_result"
    }
   ],
   "source": [
    "transcripts[0][0]"
   ]
  },
  {
   "cell_type": "code",
   "execution_count": 6,
   "metadata": {},
   "outputs": [],
   "source": [
    "#transcript"
   ]
  },
  {
   "cell_type": "code",
   "execution_count": 7,
   "metadata": {},
   "outputs": [],
   "source": [
    "transcript_data = []\n",
    "\n",
    "for t in transcripts:\n",
    "    if 'results' in t[1].keys():\n",
    "        for r in t[1]['results']:\n",
    "            if 'transcript' in r['alternatives'][0].keys():\n",
    "                #print(r['alternatives'][0]['transcript'], r['alternatives'][0]['confidence'])\n",
    "                transcript_data.append([t[0].split('.')[0], r['alternatives'][0]['transcript'], r['alternatives'][0]['confidence']])"
   ]
  },
  {
   "cell_type": "code",
   "execution_count": 8,
   "metadata": {},
   "outputs": [],
   "source": [
    "df = pd.DataFrame(transcript_data, columns=['file_name', 'text', 'confidence'])"
   ]
  },
  {
   "cell_type": "code",
   "execution_count": 9,
   "metadata": {},
   "outputs": [
    {
     "data": {
      "text/html": [
       "<div>\n",
       "<style scoped>\n",
       "    .dataframe tbody tr th:only-of-type {\n",
       "        vertical-align: middle;\n",
       "    }\n",
       "\n",
       "    .dataframe tbody tr th {\n",
       "        vertical-align: top;\n",
       "    }\n",
       "\n",
       "    .dataframe thead th {\n",
       "        text-align: right;\n",
       "    }\n",
       "</style>\n",
       "<table border=\"1\" class=\"dataframe\">\n",
       "  <thead>\n",
       "    <tr style=\"text-align: right;\">\n",
       "      <th></th>\n",
       "      <th>file_name</th>\n",
       "      <th>text</th>\n",
       "      <th>confidence</th>\n",
       "    </tr>\n",
       "  </thead>\n",
       "  <tbody>\n",
       "    <tr>\n",
       "      <th>0</th>\n",
       "      <td>opioids_tqph0257_opioids_tqph0257</td>\n",
       "      <td>news reports are coming in from across the cou...</td>\n",
       "      <td>0.826548</td>\n",
       "    </tr>\n",
       "    <tr>\n",
       "      <th>1</th>\n",
       "      <td>opioids_tqph0257_opioids_tqph0257</td>\n",
       "      <td>I've some of these other drugs in the pipeline...</td>\n",
       "      <td>0.885013</td>\n",
       "    </tr>\n",
       "    <tr>\n",
       "      <th>2</th>\n",
       "      <td>opioids_tqph0257_opioids_tqph0257</td>\n",
       "      <td>product opportunity is the the product for ca...</td>\n",
       "      <td>0.870853</td>\n",
       "    </tr>\n",
       "    <tr>\n",
       "      <th>3</th>\n",
       "      <td>opioids_tqph0257_opioids_tqph0257</td>\n",
       "      <td>it was radio 1200 WOAI San Antonio's first ne...</td>\n",
       "      <td>0.772321</td>\n",
       "    </tr>\n",
       "    <tr>\n",
       "      <th>4</th>\n",
       "      <td>opioids_tqph0257_opioids_tqph0257</td>\n",
       "      <td>it's called fan Torah cephalon say it does pl...</td>\n",
       "      <td>0.779900</td>\n",
       "    </tr>\n",
       "    <tr>\n",
       "      <th>...</th>\n",
       "      <td>...</td>\n",
       "      <td>...</td>\n",
       "      <td>...</td>\n",
       "    </tr>\n",
       "    <tr>\n",
       "      <th>177</th>\n",
       "      <td>lnq23e00_VTS_01_1_512kb</td>\n",
       "      <td>first extensive research and dialogue was und...</td>\n",
       "      <td>0.912838</td>\n",
       "    </tr>\n",
       "    <tr>\n",
       "      <th>178</th>\n",
       "      <td>lnq23e00_VTS_01_1_512kb</td>\n",
       "      <td>next info tab is offering further assistance ...</td>\n",
       "      <td>0.912838</td>\n",
       "    </tr>\n",
       "    <tr>\n",
       "      <th>179</th>\n",
       "      <td>lnq23e00_VTS_01_1_512kb</td>\n",
       "      <td>ultimately your own expertise and knowledge o...</td>\n",
       "      <td>0.912839</td>\n",
       "    </tr>\n",
       "    <tr>\n",
       "      <th>180</th>\n",
       "      <td>lnq23e00_VTS_01_1_512kb</td>\n",
       "      <td>seizing the initiative urges you to check on ...</td>\n",
       "      <td>0.912839</td>\n",
       "    </tr>\n",
       "    <tr>\n",
       "      <th>181</th>\n",
       "      <td>lnq23e00_VTS_01_1_512kb</td>\n",
       "      <td>remember ETS is an issue it's not going to go...</td>\n",
       "      <td>0.912839</td>\n",
       "    </tr>\n",
       "  </tbody>\n",
       "</table>\n",
       "<p>182 rows × 3 columns</p>\n",
       "</div>"
      ],
      "text/plain": [
       "                             file_name  \\\n",
       "0    opioids_tqph0257_opioids_tqph0257   \n",
       "1    opioids_tqph0257_opioids_tqph0257   \n",
       "2    opioids_tqph0257_opioids_tqph0257   \n",
       "3    opioids_tqph0257_opioids_tqph0257   \n",
       "4    opioids_tqph0257_opioids_tqph0257   \n",
       "..                                 ...   \n",
       "177            lnq23e00_VTS_01_1_512kb   \n",
       "178            lnq23e00_VTS_01_1_512kb   \n",
       "179            lnq23e00_VTS_01_1_512kb   \n",
       "180            lnq23e00_VTS_01_1_512kb   \n",
       "181            lnq23e00_VTS_01_1_512kb   \n",
       "\n",
       "                                                  text  confidence  \n",
       "0    news reports are coming in from across the cou...    0.826548  \n",
       "1    I've some of these other drugs in the pipeline...    0.885013  \n",
       "2     product opportunity is the the product for ca...    0.870853  \n",
       "3     it was radio 1200 WOAI San Antonio's first ne...    0.772321  \n",
       "4     it's called fan Torah cephalon say it does pl...    0.779900  \n",
       "..                                                 ...         ...  \n",
       "177   first extensive research and dialogue was und...    0.912838  \n",
       "178   next info tab is offering further assistance ...    0.912838  \n",
       "179   ultimately your own expertise and knowledge o...    0.912839  \n",
       "180   seizing the initiative urges you to check on ...    0.912839  \n",
       "181   remember ETS is an issue it's not going to go...    0.912839  \n",
       "\n",
       "[182 rows x 3 columns]"
      ]
     },
     "execution_count": 9,
     "metadata": {},
     "output_type": "execute_result"
    }
   ],
   "source": [
    "df"
   ]
  },
  {
   "cell_type": "code",
   "execution_count": 10,
   "metadata": {},
   "outputs": [],
   "source": [
    "df_text = pysqldf(\"\"\"\n",
    "SELECT file_name, GROUP_CONCAT(text) as transcript, avg(confidence), min(confidence), max(confidence) \n",
    "FROM df\n",
    "GROUP BY file_name\n",
    "\"\"\")"
   ]
  },
  {
   "cell_type": "code",
   "execution_count": 11,
   "metadata": {},
   "outputs": [
    {
     "data": {
      "text/html": [
       "<div>\n",
       "<style scoped>\n",
       "    .dataframe tbody tr th:only-of-type {\n",
       "        vertical-align: middle;\n",
       "    }\n",
       "\n",
       "    .dataframe tbody tr th {\n",
       "        vertical-align: top;\n",
       "    }\n",
       "\n",
       "    .dataframe thead th {\n",
       "        text-align: right;\n",
       "    }\n",
       "</style>\n",
       "<table border=\"1\" class=\"dataframe\">\n",
       "  <thead>\n",
       "    <tr style=\"text-align: right;\">\n",
       "      <th></th>\n",
       "      <th>file_name</th>\n",
       "      <th>transcript</th>\n",
       "      <th>avg(confidence)</th>\n",
       "      <th>min(confidence)</th>\n",
       "      <th>max(confidence)</th>\n",
       "    </tr>\n",
       "  </thead>\n",
       "  <tbody>\n",
       "    <tr>\n",
       "      <th>0</th>\n",
       "      <td>lnq23e00_VTS_01_1_512kb</td>\n",
       "      <td>environmental tobacco smoke ETS is a political...</td>\n",
       "      <td>0.887068</td>\n",
       "      <td>0.715651</td>\n",
       "      <td>0.912839</td>\n",
       "    </tr>\n",
       "    <tr>\n",
       "      <th>1</th>\n",
       "      <td>opioids_tqph0257_opioids_tqph0257</td>\n",
       "      <td>news reports are coming in from across the cou...</td>\n",
       "      <td>0.847476</td>\n",
       "      <td>0.772321</td>\n",
       "      <td>0.912839</td>\n",
       "    </tr>\n",
       "    <tr>\n",
       "      <th>2</th>\n",
       "      <td>tobacco_sdo23e00_10001665-0-2058500033_chunk_1...</td>\n",
       "      <td>Yes dear, let's say Philip Morris oh is there ...</td>\n",
       "      <td>0.810598</td>\n",
       "      <td>0.651882</td>\n",
       "      <td>0.912839</td>\n",
       "    </tr>\n",
       "    <tr>\n",
       "      <th>3</th>\n",
       "      <td>tobacco_two47c00_VTS_01_1_512kb</td>\n",
       "      <td>environmental tobacco smoke ETS is a political...</td>\n",
       "      <td>0.887068</td>\n",
       "      <td>0.715651</td>\n",
       "      <td>0.912839</td>\n",
       "    </tr>\n",
       "    <tr>\n",
       "      <th>4</th>\n",
       "      <td>tobacco_wvp23e00_VTS_01_1_512kb</td>\n",
       "      <td>environmental tobacco smoke ETS is a political...</td>\n",
       "      <td>0.887068</td>\n",
       "      <td>0.715651</td>\n",
       "      <td>0.912839</td>\n",
       "    </tr>\n",
       "  </tbody>\n",
       "</table>\n",
       "</div>"
      ],
      "text/plain": [
       "                                           file_name  \\\n",
       "0                            lnq23e00_VTS_01_1_512kb   \n",
       "1                  opioids_tqph0257_opioids_tqph0257   \n",
       "2  tobacco_sdo23e00_10001665-0-2058500033_chunk_1...   \n",
       "3                    tobacco_two47c00_VTS_01_1_512kb   \n",
       "4                    tobacco_wvp23e00_VTS_01_1_512kb   \n",
       "\n",
       "                                          transcript  avg(confidence)  \\\n",
       "0  environmental tobacco smoke ETS is a political...         0.887068   \n",
       "1  news reports are coming in from across the cou...         0.847476   \n",
       "2  Yes dear, let's say Philip Morris oh is there ...         0.810598   \n",
       "3  environmental tobacco smoke ETS is a political...         0.887068   \n",
       "4  environmental tobacco smoke ETS is a political...         0.887068   \n",
       "\n",
       "   min(confidence)  max(confidence)  \n",
       "0         0.715651         0.912839  \n",
       "1         0.772321         0.912839  \n",
       "2         0.651882         0.912839  \n",
       "3         0.715651         0.912839  \n",
       "4         0.715651         0.912839  "
      ]
     },
     "execution_count": 11,
     "metadata": {},
     "output_type": "execute_result"
    }
   ],
   "source": [
    "df_text"
   ]
  },
  {
   "cell_type": "code",
   "execution_count": 12,
   "metadata": {},
   "outputs": [],
   "source": [
    "df_text.to_csv('data/transcript_accuracy.csv', index=False)"
   ]
  },
  {
   "cell_type": "code",
   "execution_count": null,
   "metadata": {},
   "outputs": [],
   "source": []
  },
  {
   "cell_type": "code",
   "execution_count": null,
   "metadata": {},
   "outputs": [],
   "source": []
  }
 ],
 "metadata": {
  "kernelspec": {
   "display_name": "Python 3 (ipykernel)",
   "language": "python",
   "name": "python3"
  },
  "language_info": {
   "codemirror_mode": {
    "name": "ipython",
    "version": 3
   },
   "file_extension": ".py",
   "mimetype": "text/x-python",
   "name": "python",
   "nbconvert_exporter": "python",
   "pygments_lexer": "ipython3",
   "version": "3.9.7"
  }
 },
 "nbformat": 4,
 "nbformat_minor": 2
}
