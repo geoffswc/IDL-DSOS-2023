{
 "cells": [
  {
   "cell_type": "code",
   "execution_count": null,
   "id": "dbc1347b",
   "metadata": {},
   "outputs": [],
   "source": [
    "import pandas as pd\n",
    "from pandasql import sqldf\n",
    "from sklearn.model_selection import train_test_split\n",
    "from sklearn.pipeline import Pipeline\n",
    "from sklearn.feature_extraction.text import TfidfTransformer\n",
    "from sklearn.feature_extraction.text import CountVectorizer\n",
    "from sklearn.ensemble import RandomForestClassifier\n",
    "from sklearn.metrics import precision_recall_fscore_support\n",
    "from sklearn.metrics import precision_recall_curve\n",
    "from sklearn.model_selection import cross_val_score\n",
    "import nltk\n",
    "from nltk.corpus import stopwords\n",
    "from nltk.stem.porter import PorterStemmer\n",
    "from nltk.stem import WordNetLemmatizer"
   ]
  },
  {
   "cell_type": "code",
   "execution_count": null,
   "id": "70874023",
   "metadata": {},
   "outputs": [],
   "source": [
    "pd.set_option('display.max_colwidth', 70)\n",
    "pd.set_option('display.max_rows', None)"
   ]
  },
  {
   "cell_type": "code",
   "execution_count": null,
   "id": "feef5430",
   "metadata": {},
   "outputs": [],
   "source": [
    "pysqldf = lambda q: sqldf(q, globals())"
   ]
  },
  {
   "cell_type": "code",
   "execution_count": null,
   "id": "bbb8f55e",
   "metadata": {},
   "outputs": [],
   "source": [
    "#nltk.download('stopwords')\n",
    "#nltk.download('wordnet')"
   ]
  },
  {
   "cell_type": "code",
   "execution_count": null,
   "id": "81522820",
   "metadata": {},
   "outputs": [],
   "source": [
    "# setting a couple of workbook variables\n",
    "text_source = \"transcript\"\n",
    "tag = \"opioid\""
   ]
  },
  {
   "cell_type": "code",
   "execution_count": null,
   "id": "000f07ad",
   "metadata": {},
   "outputs": [],
   "source": [
    "stop = stopwords.words('english')\n",
    "lemmatizer = WordNetLemmatizer()"
   ]
  },
  {
   "cell_type": "code",
   "execution_count": null,
   "id": "b94d4410",
   "metadata": {},
   "outputs": [],
   "source": [
    "df_human = pd.read_csv(\"data/classifications.csv\")\n",
    "df_ml = pd.read_csv(\"data/transcript_accuracy.csv\")"
   ]
  },
  {
   "cell_type": "code",
   "execution_count": null,
   "id": "ec292e62",
   "metadata": {},
   "outputs": [],
   "source": [
    "df_ml.head()"
   ]
  },
  {
   "cell_type": "code",
   "execution_count": null,
   "id": "c7273a30",
   "metadata": {},
   "outputs": [],
   "source": [
    "df_human.head(1)"
   ]
  },
  {
   "cell_type": "code",
   "execution_count": null,
   "id": "29c2f0ab",
   "metadata": {},
   "outputs": [],
   "source": [
    "# Todo? do we want to denormalize this, or get a list of distinct subjects"
   ]
  },
  {
   "cell_type": "code",
   "execution_count": null,
   "id": "fb62c8fa",
   "metadata": {},
   "outputs": [],
   "source": [
    "df_dataset = pysqldf(f\"\"\"\n",
    "SELECT dh.*, dml.{text_source}\n",
    "FROM \n",
    "    df_human dh\n",
    "JOIN\n",
    "    df_ml dml\n",
    "ON dh.ID = dml.id\n",
    "    WHERE description is not NULL\n",
    "    AND description != 'error code 224003'\n",
    "\"\"\")"
   ]
  },
  {
   "cell_type": "code",
   "execution_count": null,
   "id": "f756ab52",
   "metadata": {},
   "outputs": [],
   "source": [
    "len(df_dataset)"
   ]
  },
  {
   "cell_type": "code",
   "execution_count": null,
   "id": "e6edf6a7",
   "metadata": {},
   "outputs": [],
   "source": [
    "df_dataset.head(2)"
   ]
  },
  {
   "cell_type": "code",
   "execution_count": null,
   "id": "99280276",
   "metadata": {},
   "outputs": [],
   "source": [
    "#df_dataset.set_index(\"ID\", inplace=True)"
   ]
  },
  {
   "cell_type": "code",
   "execution_count": null,
   "id": "1076890e",
   "metadata": {},
   "outputs": [],
   "source": [
    "df = pysqldf(f\"\"\"\n",
    "SELECT \n",
    "    ID,\n",
    "    subject,  \n",
    "    {text_source},\n",
    "    CASE\n",
    "        WHEN subject LIKE '%{tag}%' THEN 1\n",
    "        ELSE 0\n",
    "    END AS category\n",
    "FROM df_dataset\n",
    "\"\"\")"
   ]
  },
  {
   "cell_type": "code",
   "execution_count": null,
   "id": "9416f23d",
   "metadata": {},
   "outputs": [],
   "source": [
    "df.set_index(\"ID\", inplace=True)"
   ]
  },
  {
   "cell_type": "code",
   "execution_count": null,
   "id": "a8a04acf",
   "metadata": {},
   "outputs": [],
   "source": [
    "df.head(1)"
   ]
  },
  {
   "cell_type": "code",
   "execution_count": null,
   "id": "01da8fb7",
   "metadata": {},
   "outputs": [],
   "source": [
    "df_train, df_test = train_test_split(df, test_size=0.5)"
   ]
  },
  {
   "cell_type": "code",
   "execution_count": null,
   "id": "4f873bc5",
   "metadata": {},
   "outputs": [],
   "source": [
    "text_clf = Pipeline([\n",
    "    ('vect', CountVectorizer(stop_words=stop)),\n",
    "    ('clf', RandomForestClassifier())\n",
    "    ])"
   ]
  },
  {
   "cell_type": "code",
   "execution_count": null,
   "id": "b40726b6",
   "metadata": {},
   "outputs": [],
   "source": [
    "X_train = text_clf['vect'].fit_transform(df_train[text_source])"
   ]
  },
  {
   "cell_type": "code",
   "execution_count": null,
   "id": "24a2590c",
   "metadata": {},
   "outputs": [],
   "source": [
    "text_clf['vect'].get_feature_names_out()"
   ]
  },
  {
   "cell_type": "code",
   "execution_count": null,
   "id": "37e5174e",
   "metadata": {},
   "outputs": [],
   "source": [
    "#X_train.todense()"
   ]
  },
  {
   "cell_type": "code",
   "execution_count": null,
   "id": "b3ede28b",
   "metadata": {},
   "outputs": [],
   "source": [
    "df_vector = pd.DataFrame(X_train.todense())\n",
    "df_vector.columns = text_clf['vect'].get_feature_names_out()"
   ]
  },
  {
   "cell_type": "code",
   "execution_count": null,
   "id": "e206b04a",
   "metadata": {},
   "outputs": [],
   "source": [
    "pd.set_option('display.max_rows', None)\n",
    "#df_vector.T"
   ]
  },
  {
   "cell_type": "code",
   "execution_count": null,
   "id": "6b660a71",
   "metadata": {},
   "outputs": [],
   "source": [
    "df_train.iloc[0][text_source]"
   ]
  },
  {
   "cell_type": "code",
   "execution_count": null,
   "id": "cddf5e7e",
   "metadata": {},
   "outputs": [],
   "source": [
    "X_train = text_clf.fit(df_train[text_source], df_train['category'])"
   ]
  },
  {
   "cell_type": "code",
   "execution_count": null,
   "id": "cac91bc6",
   "metadata": {},
   "outputs": [],
   "source": [
    "feature_df = pd.DataFrame({\"feature\": text_clf['vect'].get_feature_names_out(), \n",
    "                           'importance': text_clf['clf'].feature_importances_})"
   ]
  },
  {
   "cell_type": "code",
   "execution_count": null,
   "id": "b4139174",
   "metadata": {},
   "outputs": [],
   "source": [
    "pysqldf(\"\"\"\n",
    "SELECT \n",
    "    *\n",
    "FROM\n",
    "    feature_df\n",
    "ORDER BY\n",
    "    importance DESC\n",
    "\"\"\").head(10)"
   ]
  },
  {
   "cell_type": "code",
   "execution_count": null,
   "id": "a34be1ae",
   "metadata": {},
   "outputs": [],
   "source": [
    "feature_df.sort_values(by=['importance'], ascending=False)[:20]"
   ]
  },
  {
   "cell_type": "code",
   "execution_count": null,
   "id": "878d67fc",
   "metadata": {},
   "outputs": [],
   "source": [
    "cross_val = cross_val_score(text_clf, df_test[text_source], df_test['category'], cv=4)"
   ]
  },
  {
   "cell_type": "code",
   "execution_count": null,
   "id": "26d8b14c",
   "metadata": {},
   "outputs": [],
   "source": [
    "cross_val"
   ]
  },
  {
   "cell_type": "code",
   "execution_count": null,
   "id": "143cf221",
   "metadata": {},
   "outputs": [],
   "source": [
    "y_proba = text_clf.predict_proba(df_test[text_source])\n",
    "y_pred = text_clf.predict(df_test[text_source])"
   ]
  },
  {
   "cell_type": "code",
   "execution_count": null,
   "id": "c96d9202",
   "metadata": {},
   "outputs": [],
   "source": [
    "# only list the first few, we'll build a dataframe on this later anyway\n",
    "y_proba[:10]"
   ]
  },
  {
   "cell_type": "code",
   "execution_count": null,
   "id": "cb4549e9",
   "metadata": {},
   "outputs": [],
   "source": [
    "text_clf.classes_"
   ]
  },
  {
   "cell_type": "code",
   "execution_count": null,
   "id": "61fb8860",
   "metadata": {},
   "outputs": [],
   "source": [
    "prob_not = [p[0] for p in y_proba]\n",
    "prob_legal = [p[1] for p in y_proba]"
   ]
  },
  {
   "cell_type": "code",
   "execution_count": null,
   "id": "ecf3d6e5",
   "metadata": {},
   "outputs": [],
   "source": [
    "df_test['prob_no_match'] = prob_not\n",
    "df_test['prob_match'] = prob_legal\n",
    "df_test['y-pred'] = y_pred"
   ]
  },
  {
   "cell_type": "code",
   "execution_count": null,
   "id": "0060dd2c",
   "metadata": {},
   "outputs": [],
   "source": [
    "threshold = 0.5\n",
    "\n",
    "y_adj = []\n",
    "\n",
    "for p in prob_legal:\n",
    "    if p <= threshold:\n",
    "        y_adj.append(0)\n",
    "    else:\n",
    "        y_adj.append(1)\n",
    "    \n",
    "df_test['y_adj'] = y_adj"
   ]
  },
  {
   "cell_type": "code",
   "execution_count": null,
   "id": "bffc79de",
   "metadata": {},
   "outputs": [],
   "source": [
    "df_test[['category', 'y-pred', 'y_adj', 'prob_no_match', 'prob_match']].head()"
   ]
  },
  {
   "cell_type": "code",
   "execution_count": null,
   "id": "f9d0b30a",
   "metadata": {},
   "outputs": [],
   "source": [
    "tag_results = pysqldf(f\"\"\"\n",
    "SELECT df_test.*, df.{text_source}, df.category\n",
    "FROM df_test\n",
    "JOIN df\n",
    "ON df_test.ID = df.ID\n",
    "\"\"\")"
   ]
  },
  {
   "cell_type": "code",
   "execution_count": null,
   "id": "44085c7e",
   "metadata": {},
   "outputs": [],
   "source": [
    "tag_results.head()"
   ]
  },
  {
   "cell_type": "code",
   "execution_count": null,
   "id": "9cae25b0",
   "metadata": {},
   "outputs": [],
   "source": [
    "# let's look into where the model missed it\n",
    "pysqldf(\"\"\"\n",
    "SELECT \n",
    "    *\n",
    "FROM\n",
    "    tag_results\n",
    "WHERE \n",
    "    category != `y_adj`\n",
    "\"\"\")"
   ]
  },
  {
   "cell_type": "code",
   "execution_count": null,
   "id": "a67264a9",
   "metadata": {},
   "outputs": [],
   "source": [
    "y_pred = text_clf.predict(df_test[text_source])"
   ]
  },
  {
   "cell_type": "code",
   "execution_count": null,
   "id": "7860b1f8",
   "metadata": {},
   "outputs": [],
   "source": [
    "# everything below this line will vary based on the run"
   ]
  },
  {
   "cell_type": "code",
   "execution_count": null,
   "id": "b8e84b92",
   "metadata": {},
   "outputs": [],
   "source": [
    "precision, recall, fscore, train_support = precision_recall_fscore_support(df_test['category'], y_adj, pos_label=1, average='binary')\n",
    "print('Precision: {} / Recall: {} / Accuracy: {} / fscore: {}'.format(\n",
    "    round(precision, 3), round(recall, 3), (round((y_pred==df_test['category']).sum()/len(y_adj), 3)), round(fscore, 3)))"
   ]
  },
  {
   "cell_type": "code",
   "execution_count": null,
   "id": "ba8b89f8",
   "metadata": {},
   "outputs": [],
   "source": [
    "print('f-score', 2 * ((precision * recall) / (precision + recall)))"
   ]
  },
  {
   "cell_type": "code",
   "execution_count": null,
   "id": "2b408722",
   "metadata": {},
   "outputs": [],
   "source": []
  },
  {
   "cell_type": "code",
   "execution_count": null,
   "id": "42f887d6",
   "metadata": {},
   "outputs": [],
   "source": []
  }
 ],
 "metadata": {
  "kernelspec": {
   "display_name": "Python 3 (ipykernel)",
   "language": "python",
   "name": "python3"
  },
  "language_info": {
   "codemirror_mode": {
    "name": "ipython",
    "version": 3
   },
   "file_extension": ".py",
   "mimetype": "text/x-python",
   "name": "python",
   "nbconvert_exporter": "python",
   "pygments_lexer": "ipython3",
   "version": "3.10.9"
  }
 },
 "nbformat": 4,
 "nbformat_minor": 5
}
