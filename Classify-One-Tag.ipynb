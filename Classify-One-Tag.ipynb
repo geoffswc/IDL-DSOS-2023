{
 "cells": [
  {
   "cell_type": "code",
   "execution_count": 1,
   "id": "dbc1347b",
   "metadata": {},
   "outputs": [],
   "source": [
    "import pandas as pd\n",
    "from pandasql import sqldf\n",
    "from sklearn.model_selection import train_test_split\n",
    "from sklearn.pipeline import Pipeline\n",
    "from sklearn.feature_extraction.text import TfidfTransformer\n",
    "from sklearn.feature_extraction.text import CountVectorizer\n",
    "from sklearn.ensemble import RandomForestClassifier\n",
    "from sklearn.metrics import precision_recall_fscore_support\n",
    "from sklearn.metrics import precision_recall_curve\n",
    "from sklearn.model_selection import cross_val_score\n",
    "import nltk\n",
    "from nltk.corpus import stopwords\n",
    "from nltk.stem.porter import PorterStemmer\n",
    "from nltk.stem import WordNetLemmatizer"
   ]
  },
  {
   "cell_type": "code",
   "execution_count": 2,
   "id": "70874023",
   "metadata": {},
   "outputs": [],
   "source": [
    "pd.set_option('display.max_colwidth', 70)\n",
    "pd.set_option('display.max_rows', None)"
   ]
  },
  {
   "cell_type": "code",
   "execution_count": 3,
   "id": "feef5430",
   "metadata": {},
   "outputs": [],
   "source": [
    "pysqldf = lambda q: sqldf(q, globals())"
   ]
  },
  {
   "cell_type": "code",
   "execution_count": 4,
   "id": "bbb8f55e",
   "metadata": {},
   "outputs": [],
   "source": [
    "#nltk.download('stopwords')\n",
    "#nltk.download('wordnet')"
   ]
  },
  {
   "cell_type": "code",
   "execution_count": 5,
   "id": "ce062f85",
   "metadata": {},
   "outputs": [],
   "source": [
    "# setting a couple of workbook variables\n",
    "text_source = \"transcript\"\n",
    "tag = \"tobacco\""
   ]
  },
  {
   "cell_type": "code",
   "execution_count": 6,
   "id": "000f07ad",
   "metadata": {},
   "outputs": [],
   "source": [
    "stop = stopwords.words('english')\n",
    "lemmatizer = WordNetLemmatizer()"
   ]
  },
  {
   "cell_type": "code",
   "execution_count": 7,
   "id": "b94d4410",
   "metadata": {},
   "outputs": [],
   "source": [
    "df_human = pd.read_csv(\"data/classifications.csv\")\n",
    "df_ml = pd.read_csv(\"data/transcript_accuracy.csv\")"
   ]
  },
  {
   "cell_type": "code",
   "execution_count": 8,
   "id": "ec292e62",
   "metadata": {},
   "outputs": [
    {
     "data": {
      "text/html": [
       "<div>\n",
       "<style scoped>\n",
       "    .dataframe tbody tr th:only-of-type {\n",
       "        vertical-align: middle;\n",
       "    }\n",
       "\n",
       "    .dataframe tbody tr th {\n",
       "        vertical-align: top;\n",
       "    }\n",
       "\n",
       "    .dataframe thead th {\n",
       "        text-align: right;\n",
       "    }\n",
       "</style>\n",
       "<table border=\"1\" class=\"dataframe\">\n",
       "  <thead>\n",
       "    <tr style=\"text-align: right;\">\n",
       "      <th></th>\n",
       "      <th>ID</th>\n",
       "      <th>transcript</th>\n",
       "      <th>avg(confidence)</th>\n",
       "      <th>min(confidence)</th>\n",
       "      <th>max(confidence)</th>\n",
       "    </tr>\n",
       "  </thead>\n",
       "  <tbody>\n",
       "    <tr>\n",
       "      <th>0</th>\n",
       "      <td>ffbn0006</td>\n",
       "      <td>and we're back now at 7:30 on a Tuesday Morning Joe garagiola I'm ...</td>\n",
       "      <td>0.806872</td>\n",
       "      <td>0.730015</td>\n",
       "      <td>0.907541</td>\n",
       "    </tr>\n",
       "    <tr>\n",
       "      <th>1</th>\n",
       "      <td>ffcn0006</td>\n",
       "      <td>the results of a new study on public smoking released by The Tobac...</td>\n",
       "      <td>0.813911</td>\n",
       "      <td>0.772248</td>\n",
       "      <td>0.871406</td>\n",
       "    </tr>\n",
       "    <tr>\n",
       "      <th>2</th>\n",
       "      <td>ffcw0111</td>\n",
       "      <td>at the Virginia Slims championships in Washington Andrea Yeager de...</td>\n",
       "      <td>0.819386</td>\n",
       "      <td>0.622414</td>\n",
       "      <td>0.912839</td>\n",
       "    </tr>\n",
       "    <tr>\n",
       "      <th>3</th>\n",
       "      <td>ffdn0006</td>\n",
       "      <td>this is World News Tonight with Peter Jennings sitting in tonight ...</td>\n",
       "      <td>0.853609</td>\n",
       "      <td>0.776043</td>\n",
       "      <td>0.912838</td>\n",
       "    </tr>\n",
       "    <tr>\n",
       "      <th>4</th>\n",
       "      <td>fffc0072</td>\n",
       "      <td>thank you very much for coming here today my name is Victor hanim ...</td>\n",
       "      <td>0.839049</td>\n",
       "      <td>0.677873</td>\n",
       "      <td>0.912839</td>\n",
       "    </tr>\n",
       "  </tbody>\n",
       "</table>\n",
       "</div>"
      ],
      "text/plain": [
       "         ID  \\\n",
       "0  ffbn0006   \n",
       "1  ffcn0006   \n",
       "2  ffcw0111   \n",
       "3  ffdn0006   \n",
       "4  fffc0072   \n",
       "\n",
       "                                                              transcript  \\\n",
       "0  and we're back now at 7:30 on a Tuesday Morning Joe garagiola I'm ...   \n",
       "1  the results of a new study on public smoking released by The Tobac...   \n",
       "2  at the Virginia Slims championships in Washington Andrea Yeager de...   \n",
       "3  this is World News Tonight with Peter Jennings sitting in tonight ...   \n",
       "4  thank you very much for coming here today my name is Victor hanim ...   \n",
       "\n",
       "   avg(confidence)  min(confidence)  max(confidence)  \n",
       "0         0.806872         0.730015         0.907541  \n",
       "1         0.813911         0.772248         0.871406  \n",
       "2         0.819386         0.622414         0.912839  \n",
       "3         0.853609         0.776043         0.912838  \n",
       "4         0.839049         0.677873         0.912839  "
      ]
     },
     "execution_count": 8,
     "metadata": {},
     "output_type": "execute_result"
    }
   ],
   "source": [
    "df_ml.head()"
   ]
  },
  {
   "cell_type": "code",
   "execution_count": 9,
   "id": "c7273a30",
   "metadata": {},
   "outputs": [
    {
     "data": {
      "text/html": [
       "<div>\n",
       "<style scoped>\n",
       "    .dataframe tbody tr th:only-of-type {\n",
       "        vertical-align: middle;\n",
       "    }\n",
       "\n",
       "    .dataframe tbody tr th {\n",
       "        vertical-align: top;\n",
       "    }\n",
       "\n",
       "    .dataframe thead th {\n",
       "        text-align: right;\n",
       "    }\n",
       "</style>\n",
       "<table border=\"1\" class=\"dataframe\">\n",
       "  <thead>\n",
       "    <tr style=\"text-align: right;\">\n",
       "      <th></th>\n",
       "      <th>ID</th>\n",
       "      <th>description</th>\n",
       "      <th>subject</th>\n",
       "      <th>title</th>\n",
       "      <th>runtime</th>\n",
       "    </tr>\n",
       "  </thead>\n",
       "  <tbody>\n",
       "    <tr>\n",
       "      <th>0</th>\n",
       "      <td>ffhb0039</td>\n",
       "      <td>Dan Chenowetch is interviewed about why he smokes and where he has...</td>\n",
       "      <td>tobacco; cigarette; secondhand smoke; addiction; bans; flavors; br...</td>\n",
       "      <td>Interview with smoker Dan Chenowhich</td>\n",
       "      <td>0:20:41</td>\n",
       "    </tr>\n",
       "  </tbody>\n",
       "</table>\n",
       "</div>"
      ],
      "text/plain": [
       "          ID  \\\n",
       "0  ffhb0039    \n",
       "\n",
       "                                                             description  \\\n",
       "0  Dan Chenowetch is interviewed about why he smokes and where he has...   \n",
       "\n",
       "                                                                 subject  \\\n",
       "0  tobacco; cigarette; secondhand smoke; addiction; bans; flavors; br...   \n",
       "\n",
       "                                  title  runtime  \n",
       "0  Interview with smoker Dan Chenowhich  0:20:41  "
      ]
     },
     "execution_count": 9,
     "metadata": {},
     "output_type": "execute_result"
    }
   ],
   "source": [
    "df_human.head(1)"
   ]
  },
  {
   "cell_type": "code",
   "execution_count": 10,
   "id": "29c2f0ab",
   "metadata": {},
   "outputs": [],
   "source": [
    "# Todo? do we want to denormalize this, or get a list of distinct subjects"
   ]
  },
  {
   "cell_type": "code",
   "execution_count": 81,
   "id": "fb62c8fa",
   "metadata": {},
   "outputs": [],
   "source": [
    "df_dataset = pysqldf(f\"\"\"\n",
    "SELECT dh.*, dml.{text_source}, dml.`avg(confidence)` as avg_confidence\n",
    "FROM \n",
    "    df_human dh\n",
    "JOIN\n",
    "    df_ml dml\n",
    "ON dh.ID = dml.id\n",
    "    WHERE description is not NULL\n",
    "    AND description != 'error code 224003'\n",
    "\"\"\")"
   ]
  },
  {
   "cell_type": "code",
   "execution_count": 49,
   "id": "f756ab52",
   "metadata": {},
   "outputs": [
    {
     "data": {
      "text/plain": [
       "341"
      ]
     },
     "execution_count": 49,
     "metadata": {},
     "output_type": "execute_result"
    }
   ],
   "source": [
    "len(df_dataset)"
   ]
  },
  {
   "cell_type": "code",
   "execution_count": 50,
   "id": "e6edf6a7",
   "metadata": {},
   "outputs": [
    {
     "data": {
      "text/html": [
       "<div>\n",
       "<style scoped>\n",
       "    .dataframe tbody tr th:only-of-type {\n",
       "        vertical-align: middle;\n",
       "    }\n",
       "\n",
       "    .dataframe tbody tr th {\n",
       "        vertical-align: top;\n",
       "    }\n",
       "\n",
       "    .dataframe thead th {\n",
       "        text-align: right;\n",
       "    }\n",
       "</style>\n",
       "<table border=\"1\" class=\"dataframe\">\n",
       "  <thead>\n",
       "    <tr style=\"text-align: right;\">\n",
       "      <th></th>\n",
       "      <th>ID</th>\n",
       "      <th>description</th>\n",
       "      <th>subject</th>\n",
       "      <th>title</th>\n",
       "      <th>runtime</th>\n",
       "      <th>transcript</th>\n",
       "      <th>avg(confidence)</th>\n",
       "    </tr>\n",
       "  </thead>\n",
       "  <tbody>\n",
       "    <tr>\n",
       "      <th>0</th>\n",
       "      <td>ffxh0257</td>\n",
       "      <td>Deposition of Jeff Kilper in RE: National Prescription Opiate Liti...</td>\n",
       "      <td>lawsuit; legal activity; litigation; opioids; sales; marketing;</td>\n",
       "      <td>Deposition of Jeff Kilper, Senior Director for Finance for Special...</td>\n",
       "      <td>1:07:17</td>\n",
       "      <td>on the record at 12:49 p.m., okay before we took a lunch break mrs...</td>\n",
       "      <td>0.852022</td>\n",
       "    </tr>\n",
       "    <tr>\n",
       "      <th>1</th>\n",
       "      <td>fghb0039</td>\n",
       "      <td>Camel Cigarettes infomercial on why their cigarettes are superior ...</td>\n",
       "      <td>tobacco; cigarette; marketing;</td>\n",
       "      <td>Camel Cigarettes informercial</td>\n",
       "      <td>00:20:51</td>\n",
       "      <td>it's getting pretty late when I hit the trail when you Snoop aroun...</td>\n",
       "      <td>0.875157</td>\n",
       "    </tr>\n",
       "  </tbody>\n",
       "</table>\n",
       "</div>"
      ],
      "text/plain": [
       "         ID  \\\n",
       "0  ffxh0257   \n",
       "1  fghb0039   \n",
       "\n",
       "                                                             description  \\\n",
       "0  Deposition of Jeff Kilper in RE: National Prescription Opiate Liti...   \n",
       "1  Camel Cigarettes infomercial on why their cigarettes are superior ...   \n",
       "\n",
       "                                                            subject  \\\n",
       "0  lawsuit; legal activity; litigation; opioids; sales; marketing;    \n",
       "1                                    tobacco; cigarette; marketing;   \n",
       "\n",
       "                                                                   title  \\\n",
       "0  Deposition of Jeff Kilper, Senior Director for Finance for Special...   \n",
       "1                                          Camel Cigarettes informercial   \n",
       "\n",
       "    runtime  \\\n",
       "0   1:07:17   \n",
       "1  00:20:51   \n",
       "\n",
       "                                                              transcript  \\\n",
       "0  on the record at 12:49 p.m., okay before we took a lunch break mrs...   \n",
       "1  it's getting pretty late when I hit the trail when you Snoop aroun...   \n",
       "\n",
       "   avg(confidence)  \n",
       "0         0.852022  \n",
       "1         0.875157  "
      ]
     },
     "execution_count": 50,
     "metadata": {},
     "output_type": "execute_result"
    }
   ],
   "source": [
    "df_dataset.head(2)"
   ]
  },
  {
   "cell_type": "code",
   "execution_count": 14,
   "id": "99280276",
   "metadata": {},
   "outputs": [],
   "source": [
    "#df_dataset.set_index(\"ID\", inplace=True)"
   ]
  },
  {
   "cell_type": "code",
   "execution_count": 83,
   "id": "1076890e",
   "metadata": {},
   "outputs": [],
   "source": [
    "df = pysqldf(f\"\"\"\n",
    "SELECT \n",
    "    ID,\n",
    "    subject,  \n",
    "    {text_source},\n",
    "    avg_confidence,\n",
    "    CASE\n",
    "        WHEN subject LIKE '%{tag}%' THEN 1\n",
    "        ELSE 0\n",
    "    END AS category\n",
    "FROM df_dataset\n",
    "\"\"\")"
   ]
  },
  {
   "cell_type": "code",
   "execution_count": 84,
   "id": "9416f23d",
   "metadata": {},
   "outputs": [],
   "source": [
    "df.set_index(\"ID\", inplace=True)"
   ]
  },
  {
   "cell_type": "code",
   "execution_count": 85,
   "id": "a8a04acf",
   "metadata": {},
   "outputs": [
    {
     "data": {
      "text/html": [
       "<div>\n",
       "<style scoped>\n",
       "    .dataframe tbody tr th:only-of-type {\n",
       "        vertical-align: middle;\n",
       "    }\n",
       "\n",
       "    .dataframe tbody tr th {\n",
       "        vertical-align: top;\n",
       "    }\n",
       "\n",
       "    .dataframe thead th {\n",
       "        text-align: right;\n",
       "    }\n",
       "</style>\n",
       "<table border=\"1\" class=\"dataframe\">\n",
       "  <thead>\n",
       "    <tr style=\"text-align: right;\">\n",
       "      <th></th>\n",
       "      <th>subject</th>\n",
       "      <th>transcript</th>\n",
       "      <th>avg_confidence</th>\n",
       "      <th>category</th>\n",
       "    </tr>\n",
       "    <tr>\n",
       "      <th>ID</th>\n",
       "      <th></th>\n",
       "      <th></th>\n",
       "      <th></th>\n",
       "      <th></th>\n",
       "    </tr>\n",
       "  </thead>\n",
       "  <tbody>\n",
       "    <tr>\n",
       "      <th>ffxh0257</th>\n",
       "      <td>lawsuit; legal activity; litigation; opioids; sales; marketing;</td>\n",
       "      <td>on the record at 12:49 p.m., okay before we took a lunch break mrs...</td>\n",
       "      <td>0.852022</td>\n",
       "      <td>0</td>\n",
       "    </tr>\n",
       "  </tbody>\n",
       "</table>\n",
       "</div>"
      ],
      "text/plain": [
       "                                                                   subject  \\\n",
       "ID                                                                           \n",
       "ffxh0257  lawsuit; legal activity; litigation; opioids; sales; marketing;    \n",
       "\n",
       "                                                                     transcript  \\\n",
       "ID                                                                                \n",
       "ffxh0257  on the record at 12:49 p.m., okay before we took a lunch break mrs...   \n",
       "\n",
       "          avg_confidence  category  \n",
       "ID                                  \n",
       "ffxh0257        0.852022         0  "
      ]
     },
     "execution_count": 85,
     "metadata": {},
     "output_type": "execute_result"
    }
   ],
   "source": [
    "df.head(1)"
   ]
  },
  {
   "cell_type": "code",
   "execution_count": 86,
   "id": "01da8fb7",
   "metadata": {},
   "outputs": [],
   "source": [
    "df_train, df_test = train_test_split(df, test_size=0.5)"
   ]
  },
  {
   "cell_type": "code",
   "execution_count": 87,
   "id": "4f873bc5",
   "metadata": {},
   "outputs": [],
   "source": [
    "text_clf = Pipeline([\n",
    "    ('vect', CountVectorizer(stop_words=stop)),\n",
    "    ('clf', RandomForestClassifier())\n",
    "    ])"
   ]
  },
  {
   "cell_type": "code",
   "execution_count": 88,
   "id": "b40726b6",
   "metadata": {},
   "outputs": [],
   "source": [
    "X_train = text_clf['vect'].fit_transform(df_train[text_source])"
   ]
  },
  {
   "cell_type": "code",
   "execution_count": 89,
   "id": "24a2590c",
   "metadata": {},
   "outputs": [
    {
     "data": {
      "text/plain": [
       "array(['00', '000', '001', ..., 'zooming', 'zr', 'zucker'], dtype=object)"
      ]
     },
     "execution_count": 89,
     "metadata": {},
     "output_type": "execute_result"
    }
   ],
   "source": [
    "text_clf['vect'].get_feature_names_out()"
   ]
  },
  {
   "cell_type": "code",
   "execution_count": 90,
   "id": "37e5174e",
   "metadata": {},
   "outputs": [],
   "source": [
    "#X_train.todense()"
   ]
  },
  {
   "cell_type": "code",
   "execution_count": 91,
   "id": "b3ede28b",
   "metadata": {},
   "outputs": [],
   "source": [
    "df_vector = pd.DataFrame(X_train.todense())\n",
    "df_vector.columns = text_clf['vect'].get_feature_names_out()"
   ]
  },
  {
   "cell_type": "code",
   "execution_count": 92,
   "id": "e206b04a",
   "metadata": {},
   "outputs": [],
   "source": [
    "pd.set_option('display.max_rows', None)\n",
    "#df_vector.T"
   ]
  },
  {
   "cell_type": "code",
   "execution_count": 93,
   "id": "6b660a71",
   "metadata": {},
   "outputs": [
    {
     "data": {
      "text/plain": [
       "\"read your role of the Dodgers is an expert fisherman and takes every opportunity he can the go fishing and part of his equipment is a pack of camels he tried many different brands and has this to say about camels no other cigarette can compare with camels from mildness or flavor smoke camels for 30 days through steady smoking you'll discover how mild and good-tasting camels are you'll see why after all the mildness tests camel is America's most popular cigarette, by billions, after a game Carl furillo of the Dodgers looks for his pretty wife and the mile cigarette a camel of course Carl tried many different brands before he decided on camels as his steady smoke it was the sensible 30-day camel test that really convinced him just how mild a cigarette can be follow Carl's lead smoke camels yourself you'll see why after all the mildness tests camel is America's most popular cigarette by billions,outfielder Hank Bauer of the New York Yankees likes to take life easy when he's not playing baseball that is as long as he has plenty of Camel cigarettes on hand Hank tried different leading Brands but his own 30-day camel tests prove to him that camels violence and flavors suits him to a tee do as Hank Bauer did folks test and compare camels for my illness and flavor in your own T-Zone that's T4 throat and D4 taste you'll see why after all the mildness tests camel is America's, most popular cigarette by billions, whenever Billy Cox of the Dodgers packs for a picnic a carton of camels goes into the basket he goes for that cool camel mildness and camels rich flavor let's hear what Billy has to say I get more pleasure out of Hamilton I ever got from any other cigarette smokes Billy Cox is just one of many Big League Baseball Stars who smokes camels like millions of fans they've discovered how mild and good tasting a cigarette can be try camels yourself in your T-Zone that's T4 throat and, a taste you don't see why after all the mildness tests camel is America's most popular cigarette by billions, when Vern Stevens of the Red Sox is taking it easy you'll find he has a pack of camels Within Reach Verne is one of many major league players who smokes camels he found that camels have a cool mildness and rich flavor unmatched by any other cigarette what do you have to say about camels burn camels are a great smoke yes Camel cigarettes are a great smoke try camels yourself fans for 30 days through steady smoking you'll discover how mild and good-tasting camels are why camel, is America's most popular cigarette by billions, how much how much how much can a cigarette thee make the camel 30 day test and you'll see yes you'll see how much the cigarette can be wild camels and see,camo close-ups the ladies always take a second look at Robert Merrill popular baritone of Opera and concert let's meet him after the show Bob those broad shoulders of yours suggest that you were an athlete well I guess I'm the only opera singer who was ever slated for a tryout with the Brooklyn Dodgers but I'm Not the Only singer was a camel fan lots of us are well Bob tell me why do so many singing stars like you smoke camels, well in my case what with rehearsals a heavy schedule at the Opera TV shows concert tours I can't take chances with my voice I have to have a cigarette that agrees with my throat and camels fill the bill are mild and they taste great, make a note think of your throat try camels today, the broad-shouldered gentleman you see lighting a camel is Robert Merrill star of Opera and television like so many singers I know I smoke camel I can't take chances with my voice I have to have a cigarette that agrees with my throat and camels build a bill that mild and they taste great, just because Ilona Massey has reached stardom does not mean she has stopped studying beautiful Ilona takes every chance she can get to improve her voice let's take a break a lot of how about time out for a cigarette oh it's camel yes once again will smoke it always accountable smoking, thank you you see I found that out when I made my own 30-day camel mildness test camels are just right for my throat and you know how much that means to me after all I use my voice quite a great deal besides I have never smoked another cigarette and taste as good as a camel see for yourself how mild how flavorful how enjoyable camels are pack after Peck see why more people smoke camels than any other cigarette, Arete change to camels today, camel close-ups the ladies always take a second look at Robert Merrill popular baritone of Opera and concert let's meet him after the show Bob those broad shoulders of yours suggest that you were an athlete well I guess I'm the only opera singer who was ever slated for a tryout with the Brooklyn Dodgers but I'm Not the Only singer was a camel fan lots of us are well Bob tell me why do so many singing stars like you smoke camels, well in my case what with rehearsals a heavy schedule at the Opera TV shows concert tours I can't take chances with my voice I have to have a cigarette that agrees with my throat and camels fill the bill they're mild and they taste great, make a note think of your throat try camels today, one of the most spectacular and thrilling exhibitions of the world of course today is motorcycle hill climbing see what I mean and boss Keller West Coast Champion demonstrate some of his skill and daring he makes he makes it where many others fail because Bob has that certain know how game from many years of experience have a camel thanks camels are my brand, yes it's true and motorcycle hill climbing and it's true in choosing a cigarette experience is the best teacher, try camels compare them in your T-Zone as T per taste and people throat you're proving ground for any cigarette see if your taste doesn't welcome camel full flavor see if your throat doesn't welcome camels cool mildness let your experience in your T-Zone tell you why more and more people are smoking camels than ever before, ballerina tested for role in Hollywood musical Katherine Lee take one, all right Miss Lee now let's do the Potted burrito, the long arm of Hollywood reach them to New York to screen test texas-born Katherine Lee who's pretty face and fancy footwork of captured Broadway she's testing for an important dancing role in a forthcoming musical do you see why oh that's lovely lovely Miss Lee confidentially you're terrific it's obvious you've had a world of experience the camel thank you well I've been dancing since I was eight years old in other words experience is the best teacher, through and choosing cigarettes to like so many smokers Catherine Lea smoke many different brands and compared cool Mi full-flavored camel to the choice of experience with her try camels in your T-Zone that steep for Taste and chief of throat you're proving ground for any cigarette let your T-Zone tell you why more people are smoking camels and ever before, juggler boy believes practice makes perfect, could I have a match sure this, you have a kennel thank you you're not going to smoke one now sure why not, could you teach me to do that show this it's like choosing a cigarette experience is the best teacher boy boy is one of countless smokers who've tried many different brands of cigarettes and compared he found by experience that cool mild full-flavored camel sued him to a tee yes camels are the choice of experience with him try camel yourself in your T-Zone that's T4 tasty for throat let your T-Zone tell you why more people are smoking camels than ever before, Landing grace and beauty as well as skilled of this Ancient Art are many feminine deputies and one of the loveliest of the feminine experts is Betty coach, another Bullseye the result of constant practice and lots of experience, yes experience is the best teacher in many things and when you hear that familiar have a camel smoker after smoker will say oh my favorite brand yes with Betty coach and with millions of other smokers who have compared different brands camels are the choice of experience try camels compare them in your T-Zone that's t for Taste and people throat you're proving ground for any cigarette see if your taste doesn't welcome camels full flavor see if your throat doesn't welcome camels cool mildness, let your experience in your T-Zone tell you why more people are smoking camels than ever before, border to border from coast to coast more people are smoking camels, never in the history of this famous cigarette have camels been more popular just about everywhere you go you see camels camels camels but let's turn the clock back moment to 1944 those were the days of shortages of almost everything many girls went stocking lists, the nation's highways were Carlos for water pressures gasoline, and the lines for cigarettes seemed almost endless people smoked any brand they could get and compare the different brands, experience is the best teacher and the cigarette shortage was an experience in which hosts of smokers learn that Camel suit them best cool and Mild rich and full flavor you're proving ground for a cigarette is your T-Zone T4 tasty for throat try a camel on your T-Zone and see for yourself why more people are smoking camels and ever before, for fun on water dry Aqua skiing a sport that is gaining popularity every day and what Recreation that has as many feminine deputies as men everybody is on an equal footing the idea is to stay on, some do and some don't it takes lots of practice and experience, yes experience is the best teacher in aqua skiing or in choosing a cigarette that's why Donna Hamilton and millions of other smokers who have compared different brands choose camels, see if your taste doesn't welcome camels full flavor see if your throat doesn't welcome camels cool mildness try camels compare them in your T-Zone let's tee for Taste and people throat you're proving ground for any cigarette let your experience in your T-Zone tell you why more people are smoking camels than ever before, well lots of trails and sometimes spills Aqua skiing is fast becoming a favorite water sport although it's difficult for the novice even to stand up on water skis without sinking the more expert enthusiasts like Barbara Cooper and Preston Peterson do tricks while it looks easy don't let that fool you even these gals learned the hard way it takes lots of practice and experience, yes experience is the best teacher in aqua skiing or in choosing a cigarette, that's why with smokers will have compared different brands camels are the choice of experience, try camels see if they don't you do to a tee compare them in your T-Zone that steeper taste T4 throat you're proving ground for any cigarette let your experience in your T-Zone tell you why more people are smoking camels than ever before, more people are smoking camels than ever before camels are speeding to smokers at a greater rate than at any time in the history of this vastly popular cigarette, but let's look back a few years to 1944 in those days there were shortages of all kinds not much sugar no gasoline for pleasure driving and cigarettes were scarce as hen's teeth people smoke whatever brand they could get and compare the different brands for flavor for mildness for all around smoking pleasure, well experience is the best teacher and that experience during the wartime cigarette shortage taught hosts of smokers of camels rich full flavor and cool cool mildest are just right for them The Proving Ground for any cigarette is your T Zone that's tea for Taste and T4 throat try a camel on your T-Zone and see why more people are smoking camels than ever before,you know if you were to follow a busy doctor is he makes his daily round of calls you would find yourself having a mighty busy time keeping up with him timeout for Many Men of medicine usually means just long enough to enjoy a cigarette and because they know what a pleasure it is to smoke a mild good tasting cigarette there are particular about the brand they choose in a repeated National survey doctors in all branches of medicine doctors in all parts of the country, we were asked what cigarette do you smoke doctor once again the brand named most was camel yes according to this repeated Nationwide survey more doctors smoke camels than any other cigarette why not change to camels for the next 30 days and see what a difference it makes in your smoking enjoyment see how camels agree with your throat see how mild and good-tasting a cigarette can be, just because Ilona Massey has reached stardom does not mean she has stopped studying beautiful Alana takes every chance she can get to improve her voice let's take a break a loner how about time out for a cigarette oh it's camel yes once the camel smoker always a gamble smoking,thank you you see I found that out when I made my own 30-day camel mildness test camels are just right for my throat and you know how much that means to me after all I use my voice quite a great deal besides I have never smoked another cigarette tastes as good as a camel see for yourself how mild how flavorful how enjoyable camels are pack after Peck see why more people smoke camels than any other cigarette, change to camels today, visit our colleges and universities across the country talk to the young men and women who must pass test after test week after week see them at their parties their clubs their social get-togethers and you realize one thing about them you see that these students have learned to think for themselves that they are sound and Discerning in their judgments you'll notice that as with so many millions of other Americans Camel cigarettes are a great favorite on the campus yes on the subject of cigarettes they know you can't decide, John Hastie one puff experiments I'm here with for sniff is no proof of cigarette mildness as this lovely co-ed puts it I like the kind of proof I got from the camera 30 day test I just took my time and smoke camels regularly for 30 days now I know for sure camels agree with my throat there so mild and tastes so good isn't that the kind of sensible proof you want to start your own camel 30 day test today, the camel camera, classy canines relax backstage at their Big Show Aristocrats of the doggy said put on their party managed to impress the dog show judges here's Marlo Farm Scotty Dandy actress and mrs. Sloane Colts Welsh Terrier Halcyon Masterpiece but where's Rover he must be bringing home the bacon here he comes now Champion Deephaven warspite in his famous trainer Johnny Murphy mr. Murphy how could you tell if the Scotty was a prize dog experience you know miss the old story experiences the best, have a candle Johnny Murphy smokes camels because he's found that experience is the best teacher in choosing a cigarette to like so many smokers he smoked many different brands of compared cool mild full-flavored camels of the choice of experience with him they sued him to a tee try Campbell yourself in your T-Zone that steeper tasty for throat let your T-Zone tell you why more people are smoking camels than ever before, the camel camera, future dog show chaplains good manners under expert teacher here in this Canine Classroom beagle poplin low Starlet Goes to School under teacher Johnny Murphy the famous dog trainer Johnny how will you train this future chance well to begin with you have to win the puppies confidence and daily grooming is very important in about three or four months old a puppy should be tight to walk properly on a leash and collar at the same time you should teach your puppy to pause daily like this, nice, you see a dog is just like you and I they learn from experience you know the old saying experience is the best teacher that's true and choosing a cigarette to Johnny Murphy is smoke many different brands and compared cool Mi flavorful camels of the choice of experience with him try camels yourself compare them in your T-Zone that's t for Taste and T4 throat that your own experience tell you why more people are smoking camels than ever before, the camel camera, first pictures of famous ballerina in Broadway rehearsal anonymously let's do the climax of your solo again and remember a show depends on it ready position 1 2 3 4 1 2 3 0, well that's fine fine fine we could use a core of ballerinas with your experience thank you every ballet Master I've ever studied with has said experience is the best teacher oh why certainly oh have a camo thank you that's true and choosing cigarettes to like so many smokers Kathryn Leigh smoke many different brands and compared cool Mi full-flavored camels of the choice of experience with her they suit her to a tee try camels yourself compare them in your tea, all that steeper taste and Teeth of throat you're proving ground for any cigarette let your own experience your T-Zone tell you why more people are smoking camels than ever before, the camel camera, designer claims dress must look good on a hanger fashion designer Karim on comes up with her own theory about smart clothes and proves it here in her shop on New York's Madison Avenue mrs. man claims that are really smart dress has that certain quality known as it or omph even when it's draped on a clothes hanger if it looks Nifty on a hanger that is bound to look smart on the girl even husband's understand mrs. munts logic, how do you like it darling you on that dress make a marvelous combination this is mine how do you manage to dream up such beautiful dresses experience really you know whether you're designing a dress or choosing a cigarette experience is the best teacher that's why I prefer camels Karim on is one of countless smokers who tried many different brands and compared camels of the choice of experience with her try camels yourself in your T-Zone that's T4 taste T4 throat let your T-Zone tell, why more people are smoking camels than ever before, more than ever before more people are smoking camels border to border and surely short more people are smoking camels for people smoke camels than ever before, he's a journalist and he covers forts at stadiums Arenas and the skiing Resorts among the players broke your wedding he says camels are the favorite cigarette smoke camels than ever before, the camera will camel than ever be back\""
      ]
     },
     "execution_count": 93,
     "metadata": {},
     "output_type": "execute_result"
    }
   ],
   "source": [
    "df_train.iloc[0][text_source]"
   ]
  },
  {
   "cell_type": "code",
   "execution_count": 94,
   "id": "cddf5e7e",
   "metadata": {},
   "outputs": [],
   "source": [
    "X_train = text_clf.fit(df_train[text_source], df_train['category'])"
   ]
  },
  {
   "cell_type": "code",
   "execution_count": 95,
   "id": "cac91bc6",
   "metadata": {},
   "outputs": [],
   "source": [
    "feature_df = pd.DataFrame({\"feature\": text_clf['vect'].get_feature_names_out(), \n",
    "                           'importance': text_clf['clf'].feature_importances_})"
   ]
  },
  {
   "cell_type": "code",
   "execution_count": 96,
   "id": "b4139174",
   "metadata": {},
   "outputs": [
    {
     "data": {
      "text/html": [
       "<div>\n",
       "<style scoped>\n",
       "    .dataframe tbody tr th:only-of-type {\n",
       "        vertical-align: middle;\n",
       "    }\n",
       "\n",
       "    .dataframe tbody tr th {\n",
       "        vertical-align: top;\n",
       "    }\n",
       "\n",
       "    .dataframe thead th {\n",
       "        text-align: right;\n",
       "    }\n",
       "</style>\n",
       "<table border=\"1\" class=\"dataframe\">\n",
       "  <thead>\n",
       "    <tr style=\"text-align: right;\">\n",
       "      <th></th>\n",
       "      <th>feature</th>\n",
       "      <th>importance</th>\n",
       "    </tr>\n",
       "  </thead>\n",
       "  <tbody>\n",
       "    <tr>\n",
       "      <th>0</th>\n",
       "      <td>oxy</td>\n",
       "      <td>0.018747</td>\n",
       "    </tr>\n",
       "    <tr>\n",
       "      <th>1</th>\n",
       "      <td>opioids</td>\n",
       "      <td>0.018512</td>\n",
       "    </tr>\n",
       "    <tr>\n",
       "      <th>2</th>\n",
       "      <td>tennessee</td>\n",
       "      <td>0.016335</td>\n",
       "    </tr>\n",
       "    <tr>\n",
       "      <th>3</th>\n",
       "      <td>reports</td>\n",
       "      <td>0.013266</td>\n",
       "    </tr>\n",
       "    <tr>\n",
       "      <th>4</th>\n",
       "      <td>aside</td>\n",
       "      <td>0.013135</td>\n",
       "    </tr>\n",
       "    <tr>\n",
       "      <th>5</th>\n",
       "      <td>patient</td>\n",
       "      <td>0.012681</td>\n",
       "    </tr>\n",
       "    <tr>\n",
       "      <th>6</th>\n",
       "      <td>correctly</td>\n",
       "      <td>0.011220</td>\n",
       "    </tr>\n",
       "    <tr>\n",
       "      <th>7</th>\n",
       "      <td>form</td>\n",
       "      <td>0.011149</td>\n",
       "    </tr>\n",
       "    <tr>\n",
       "      <th>8</th>\n",
       "      <td>patients</td>\n",
       "      <td>0.011131</td>\n",
       "    </tr>\n",
       "    <tr>\n",
       "      <th>9</th>\n",
       "      <td>distributor</td>\n",
       "      <td>0.010663</td>\n",
       "    </tr>\n",
       "  </tbody>\n",
       "</table>\n",
       "</div>"
      ],
      "text/plain": [
       "       feature  importance\n",
       "0          oxy    0.018747\n",
       "1      opioids    0.018512\n",
       "2    tennessee    0.016335\n",
       "3      reports    0.013266\n",
       "4        aside    0.013135\n",
       "5      patient    0.012681\n",
       "6    correctly    0.011220\n",
       "7         form    0.011149\n",
       "8     patients    0.011131\n",
       "9  distributor    0.010663"
      ]
     },
     "execution_count": 96,
     "metadata": {},
     "output_type": "execute_result"
    }
   ],
   "source": [
    "pysqldf(\"\"\"\n",
    "SELECT \n",
    "    *\n",
    "FROM\n",
    "    feature_df\n",
    "ORDER BY\n",
    "    importance DESC\n",
    "\"\"\").head(10)"
   ]
  },
  {
   "cell_type": "code",
   "execution_count": 97,
   "id": "a34be1ae",
   "metadata": {},
   "outputs": [
    {
     "data": {
      "text/html": [
       "<div>\n",
       "<style scoped>\n",
       "    .dataframe tbody tr th:only-of-type {\n",
       "        vertical-align: middle;\n",
       "    }\n",
       "\n",
       "    .dataframe tbody tr th {\n",
       "        vertical-align: top;\n",
       "    }\n",
       "\n",
       "    .dataframe thead th {\n",
       "        text-align: right;\n",
       "    }\n",
       "</style>\n",
       "<table border=\"1\" class=\"dataframe\">\n",
       "  <thead>\n",
       "    <tr style=\"text-align: right;\">\n",
       "      <th></th>\n",
       "      <th>feature</th>\n",
       "      <th>importance</th>\n",
       "    </tr>\n",
       "  </thead>\n",
       "  <tbody>\n",
       "    <tr>\n",
       "      <th>8833</th>\n",
       "      <td>oxy</td>\n",
       "      <td>0.018747</td>\n",
       "    </tr>\n",
       "    <tr>\n",
       "      <th>8671</th>\n",
       "      <td>opioids</td>\n",
       "      <td>0.018512</td>\n",
       "    </tr>\n",
       "    <tr>\n",
       "      <th>12407</th>\n",
       "      <td>tennessee</td>\n",
       "      <td>0.016335</td>\n",
       "    </tr>\n",
       "    <tr>\n",
       "      <th>10402</th>\n",
       "      <td>reports</td>\n",
       "      <td>0.013266</td>\n",
       "    </tr>\n",
       "    <tr>\n",
       "      <th>1109</th>\n",
       "      <td>aside</td>\n",
       "      <td>0.013135</td>\n",
       "    </tr>\n",
       "    <tr>\n",
       "      <th>8990</th>\n",
       "      <td>patient</td>\n",
       "      <td>0.012681</td>\n",
       "    </tr>\n",
       "    <tr>\n",
       "      <th>3082</th>\n",
       "      <td>correctly</td>\n",
       "      <td>0.011220</td>\n",
       "    </tr>\n",
       "    <tr>\n",
       "      <th>5168</th>\n",
       "      <td>form</td>\n",
       "      <td>0.011149</td>\n",
       "    </tr>\n",
       "    <tr>\n",
       "      <th>8991</th>\n",
       "      <td>patients</td>\n",
       "      <td>0.011131</td>\n",
       "    </tr>\n",
       "    <tr>\n",
       "      <th>3933</th>\n",
       "      <td>distributor</td>\n",
       "      <td>0.010663</td>\n",
       "    </tr>\n",
       "    <tr>\n",
       "      <th>6887</th>\n",
       "      <td>karen</td>\n",
       "      <td>0.009996</td>\n",
       "    </tr>\n",
       "    <tr>\n",
       "      <th>12180</th>\n",
       "      <td>suspicious</td>\n",
       "      <td>0.009904</td>\n",
       "    </tr>\n",
       "    <tr>\n",
       "      <th>13742</th>\n",
       "      <td>yes</td>\n",
       "      <td>0.009824</td>\n",
       "    </tr>\n",
       "    <tr>\n",
       "      <th>4312</th>\n",
       "      <td>emails</td>\n",
       "      <td>0.009239</td>\n",
       "    </tr>\n",
       "    <tr>\n",
       "      <th>10562</th>\n",
       "      <td>reviewing</td>\n",
       "      <td>0.008775</td>\n",
       "    </tr>\n",
       "    <tr>\n",
       "      <th>12603</th>\n",
       "      <td>title</td>\n",
       "      <td>0.008738</td>\n",
       "    </tr>\n",
       "    <tr>\n",
       "      <th>2299</th>\n",
       "      <td>chargeback</td>\n",
       "      <td>0.008302</td>\n",
       "    </tr>\n",
       "    <tr>\n",
       "      <th>8113</th>\n",
       "      <td>monitoring</td>\n",
       "      <td>0.008131</td>\n",
       "    </tr>\n",
       "    <tr>\n",
       "      <th>10223</th>\n",
       "      <td>referred</td>\n",
       "      <td>0.008113</td>\n",
       "    </tr>\n",
       "    <tr>\n",
       "      <th>4311</th>\n",
       "      <td>email</td>\n",
       "      <td>0.008066</td>\n",
       "    </tr>\n",
       "  </tbody>\n",
       "</table>\n",
       "</div>"
      ],
      "text/plain": [
       "           feature  importance\n",
       "8833           oxy    0.018747\n",
       "8671       opioids    0.018512\n",
       "12407    tennessee    0.016335\n",
       "10402      reports    0.013266\n",
       "1109         aside    0.013135\n",
       "8990       patient    0.012681\n",
       "3082     correctly    0.011220\n",
       "5168          form    0.011149\n",
       "8991      patients    0.011131\n",
       "3933   distributor    0.010663\n",
       "6887         karen    0.009996\n",
       "12180   suspicious    0.009904\n",
       "13742          yes    0.009824\n",
       "4312        emails    0.009239\n",
       "10562    reviewing    0.008775\n",
       "12603        title    0.008738\n",
       "2299    chargeback    0.008302\n",
       "8113    monitoring    0.008131\n",
       "10223     referred    0.008113\n",
       "4311         email    0.008066"
      ]
     },
     "execution_count": 97,
     "metadata": {},
     "output_type": "execute_result"
    }
   ],
   "source": [
    "feature_df.sort_values(by=['importance'], ascending=False)[:20]"
   ]
  },
  {
   "cell_type": "code",
   "execution_count": 98,
   "id": "878d67fc",
   "metadata": {},
   "outputs": [],
   "source": [
    "cross_val = cross_val_score(text_clf, df_test[text_source], df_test['category'], cv=4)"
   ]
  },
  {
   "cell_type": "code",
   "execution_count": 99,
   "id": "26d8b14c",
   "metadata": {},
   "outputs": [
    {
     "data": {
      "text/plain": [
       "array([0.90697674, 0.88372093, 0.93023256, 0.88095238])"
      ]
     },
     "execution_count": 99,
     "metadata": {},
     "output_type": "execute_result"
    }
   ],
   "source": [
    "cross_val"
   ]
  },
  {
   "cell_type": "code",
   "execution_count": 100,
   "id": "143cf221",
   "metadata": {},
   "outputs": [],
   "source": [
    "y_proba = text_clf.predict_proba(df_test[text_source])\n",
    "y_pred = text_clf.predict(df_test[text_source])"
   ]
  },
  {
   "cell_type": "code",
   "execution_count": 101,
   "id": "c96d9202",
   "metadata": {},
   "outputs": [
    {
     "data": {
      "text/plain": [
       "array([[0.01, 0.99],\n",
       "       [0.17, 0.83],\n",
       "       [0.  , 1.  ],\n",
       "       [0.01, 0.99],\n",
       "       [0.06, 0.94],\n",
       "       [0.02, 0.98],\n",
       "       [0.07, 0.93],\n",
       "       [0.04, 0.96],\n",
       "       [0.04, 0.96],\n",
       "       [0.03, 0.97]])"
      ]
     },
     "execution_count": 101,
     "metadata": {},
     "output_type": "execute_result"
    }
   ],
   "source": [
    "# only list the first few, we'll build a dataframe on this later anyway\n",
    "y_proba[:10]"
   ]
  },
  {
   "cell_type": "code",
   "execution_count": 102,
   "id": "cb4549e9",
   "metadata": {},
   "outputs": [
    {
     "data": {
      "text/plain": [
       "array([0, 1])"
      ]
     },
     "execution_count": 102,
     "metadata": {},
     "output_type": "execute_result"
    }
   ],
   "source": [
    "text_clf.classes_"
   ]
  },
  {
   "cell_type": "code",
   "execution_count": 103,
   "id": "61fb8860",
   "metadata": {},
   "outputs": [],
   "source": [
    "prob_not = [p[0] for p in y_proba]\n",
    "prob_legal = [p[1] for p in y_proba]"
   ]
  },
  {
   "cell_type": "code",
   "execution_count": 104,
   "id": "ecf3d6e5",
   "metadata": {},
   "outputs": [],
   "source": [
    "df_test['prob_no_match'] = prob_not\n",
    "df_test['prob_match'] = prob_legal\n",
    "df_test['y-pred'] = y_pred"
   ]
  },
  {
   "cell_type": "code",
   "execution_count": 105,
   "id": "0060dd2c",
   "metadata": {},
   "outputs": [],
   "source": [
    "threshold = 0.5\n",
    "\n",
    "y_adj = []\n",
    "\n",
    "for p in prob_legal:\n",
    "    if p <= threshold:\n",
    "        y_adj.append(0)\n",
    "    else:\n",
    "        y_adj.append(1)\n",
    "    \n",
    "df_test['y_adj'] = y_adj"
   ]
  },
  {
   "cell_type": "code",
   "execution_count": 106,
   "id": "bffc79de",
   "metadata": {},
   "outputs": [
    {
     "data": {
      "text/html": [
       "<div>\n",
       "<style scoped>\n",
       "    .dataframe tbody tr th:only-of-type {\n",
       "        vertical-align: middle;\n",
       "    }\n",
       "\n",
       "    .dataframe tbody tr th {\n",
       "        vertical-align: top;\n",
       "    }\n",
       "\n",
       "    .dataframe thead th {\n",
       "        text-align: right;\n",
       "    }\n",
       "</style>\n",
       "<table border=\"1\" class=\"dataframe\">\n",
       "  <thead>\n",
       "    <tr style=\"text-align: right;\">\n",
       "      <th></th>\n",
       "      <th>category</th>\n",
       "      <th>y-pred</th>\n",
       "      <th>y_adj</th>\n",
       "      <th>prob_no_match</th>\n",
       "      <th>prob_match</th>\n",
       "    </tr>\n",
       "    <tr>\n",
       "      <th>ID</th>\n",
       "      <th></th>\n",
       "      <th></th>\n",
       "      <th></th>\n",
       "      <th></th>\n",
       "      <th></th>\n",
       "    </tr>\n",
       "  </thead>\n",
       "  <tbody>\n",
       "    <tr>\n",
       "      <th>fypj0015</th>\n",
       "      <td>1</td>\n",
       "      <td>1</td>\n",
       "      <td>1</td>\n",
       "      <td>0.01</td>\n",
       "      <td>0.99</td>\n",
       "    </tr>\n",
       "    <tr>\n",
       "      <th>jhdc0072</th>\n",
       "      <td>1</td>\n",
       "      <td>1</td>\n",
       "      <td>1</td>\n",
       "      <td>0.17</td>\n",
       "      <td>0.83</td>\n",
       "    </tr>\n",
       "    <tr>\n",
       "      <th>jrcf0191</th>\n",
       "      <td>1</td>\n",
       "      <td>1</td>\n",
       "      <td>1</td>\n",
       "      <td>0.00</td>\n",
       "      <td>1.00</td>\n",
       "    </tr>\n",
       "    <tr>\n",
       "      <th>yrhb0039</th>\n",
       "      <td>1</td>\n",
       "      <td>1</td>\n",
       "      <td>1</td>\n",
       "      <td>0.01</td>\n",
       "      <td>0.99</td>\n",
       "    </tr>\n",
       "    <tr>\n",
       "      <th>fpnh0063</th>\n",
       "      <td>1</td>\n",
       "      <td>1</td>\n",
       "      <td>1</td>\n",
       "      <td>0.06</td>\n",
       "      <td>0.94</td>\n",
       "    </tr>\n",
       "  </tbody>\n",
       "</table>\n",
       "</div>"
      ],
      "text/plain": [
       "          category  y-pred  y_adj  prob_no_match  prob_match\n",
       "ID                                                          \n",
       "fypj0015         1       1      1           0.01        0.99\n",
       "jhdc0072         1       1      1           0.17        0.83\n",
       "jrcf0191         1       1      1           0.00        1.00\n",
       "yrhb0039         1       1      1           0.01        0.99\n",
       "fpnh0063         1       1      1           0.06        0.94"
      ]
     },
     "execution_count": 106,
     "metadata": {},
     "output_type": "execute_result"
    }
   ],
   "source": [
    "df_test[['category', 'y-pred', 'y_adj', 'prob_no_match', 'prob_match']].head()"
   ]
  },
  {
   "cell_type": "code",
   "execution_count": 107,
   "id": "f9d0b30a",
   "metadata": {},
   "outputs": [],
   "source": [
    "tag_results = pysqldf(f\"\"\"\n",
    "SELECT df_test.*, df.{text_source}, df.category, df.avg_confidence\n",
    "FROM df_test\n",
    "JOIN df\n",
    "ON df_test.ID = df.ID\n",
    "\"\"\")"
   ]
  },
  {
   "cell_type": "code",
   "execution_count": 108,
   "id": "400096ce",
   "metadata": {},
   "outputs": [
    {
     "data": {
      "text/html": [
       "<div>\n",
       "<style scoped>\n",
       "    .dataframe tbody tr th:only-of-type {\n",
       "        vertical-align: middle;\n",
       "    }\n",
       "\n",
       "    .dataframe tbody tr th {\n",
       "        vertical-align: top;\n",
       "    }\n",
       "\n",
       "    .dataframe thead th {\n",
       "        text-align: right;\n",
       "    }\n",
       "</style>\n",
       "<table border=\"1\" class=\"dataframe\">\n",
       "  <thead>\n",
       "    <tr style=\"text-align: right;\">\n",
       "      <th></th>\n",
       "      <th>ID</th>\n",
       "      <th>subject</th>\n",
       "      <th>transcript</th>\n",
       "      <th>avg_confidence</th>\n",
       "      <th>category</th>\n",
       "      <th>prob_no_match</th>\n",
       "      <th>prob_match</th>\n",
       "      <th>y-pred</th>\n",
       "      <th>y_adj</th>\n",
       "      <th>transcript</th>\n",
       "      <th>category</th>\n",
       "      <th>avg_confidence</th>\n",
       "    </tr>\n",
       "  </thead>\n",
       "  <tbody>\n",
       "    <tr>\n",
       "      <th>0</th>\n",
       "      <td>fypj0015</td>\n",
       "      <td>tobacco; cigarette; glycerine; health; filter;</td>\n",
       "      <td>imagine a cigarette with smoke that disappears like this and smell...</td>\n",
       "      <td>0.849739</td>\n",
       "      <td>1</td>\n",
       "      <td>0.01</td>\n",
       "      <td>0.99</td>\n",
       "      <td>1</td>\n",
       "      <td>1</td>\n",
       "      <td>imagine a cigarette with smoke that disappears like this and smell...</td>\n",
       "      <td>1</td>\n",
       "      <td>0.849739</td>\n",
       "    </tr>\n",
       "    <tr>\n",
       "      <th>1</th>\n",
       "      <td>jhdc0072</td>\n",
       "      <td>tobacco; cigarette; ad;</td>\n",
       "      <td>there's the baron and we're going to show you a couple of things y...</td>\n",
       "      <td>0.827533</td>\n",
       "      <td>1</td>\n",
       "      <td>0.17</td>\n",
       "      <td>0.83</td>\n",
       "      <td>1</td>\n",
       "      <td>1</td>\n",
       "      <td>there's the baron and we're going to show you a couple of things y...</td>\n",
       "      <td>1</td>\n",
       "      <td>0.827533</td>\n",
       "    </tr>\n",
       "    <tr>\n",
       "      <th>2</th>\n",
       "      <td>jrcf0191</td>\n",
       "      <td>tobacco; cigarette; fresh;</td>\n",
       "      <td>as he stepped from his long limousine said Sir Arthur Smith Beverl...</td>\n",
       "      <td>0.912838</td>\n",
       "      <td>1</td>\n",
       "      <td>0.00</td>\n",
       "      <td>1.00</td>\n",
       "      <td>1</td>\n",
       "      <td>1</td>\n",
       "      <td>as he stepped from his long limousine said Sir Arthur Smith Beverl...</td>\n",
       "      <td>1</td>\n",
       "      <td>0.912838</td>\n",
       "    </tr>\n",
       "    <tr>\n",
       "      <th>3</th>\n",
       "      <td>yrhb0039</td>\n",
       "      <td>tobacco; cigarette; training; sales</td>\n",
       "      <td>welcome to the retail conversion sales team, the objective of this...</td>\n",
       "      <td>0.856988</td>\n",
       "      <td>1</td>\n",
       "      <td>0.01</td>\n",
       "      <td>0.99</td>\n",
       "      <td>1</td>\n",
       "      <td>1</td>\n",
       "      <td>welcome to the retail conversion sales team, the objective of this...</td>\n",
       "      <td>1</td>\n",
       "      <td>0.856988</td>\n",
       "    </tr>\n",
       "    <tr>\n",
       "      <th>4</th>\n",
       "      <td>fpnh0063</td>\n",
       "      <td>tobacco; cigarette;  health; cost; profit;</td>\n",
       "      <td>ladies and Gentlemen please welcome the director of Market plannin...</td>\n",
       "      <td>0.861348</td>\n",
       "      <td>1</td>\n",
       "      <td>0.06</td>\n",
       "      <td>0.94</td>\n",
       "      <td>1</td>\n",
       "      <td>1</td>\n",
       "      <td>ladies and Gentlemen please welcome the director of Market plannin...</td>\n",
       "      <td>1</td>\n",
       "      <td>0.861348</td>\n",
       "    </tr>\n",
       "  </tbody>\n",
       "</table>\n",
       "</div>"
      ],
      "text/plain": [
       "         ID                                         subject  \\\n",
       "0  fypj0015  tobacco; cigarette; glycerine; health; filter;   \n",
       "1  jhdc0072                         tobacco; cigarette; ad;   \n",
       "2  jrcf0191                      tobacco; cigarette; fresh;   \n",
       "3  yrhb0039             tobacco; cigarette; training; sales   \n",
       "4  fpnh0063      tobacco; cigarette;  health; cost; profit;   \n",
       "\n",
       "                                                              transcript  \\\n",
       "0  imagine a cigarette with smoke that disappears like this and smell...   \n",
       "1  there's the baron and we're going to show you a couple of things y...   \n",
       "2  as he stepped from his long limousine said Sir Arthur Smith Beverl...   \n",
       "3  welcome to the retail conversion sales team, the objective of this...   \n",
       "4  ladies and Gentlemen please welcome the director of Market plannin...   \n",
       "\n",
       "   avg_confidence  category  prob_no_match  prob_match  y-pred  y_adj  \\\n",
       "0        0.849739         1           0.01        0.99       1      1   \n",
       "1        0.827533         1           0.17        0.83       1      1   \n",
       "2        0.912838         1           0.00        1.00       1      1   \n",
       "3        0.856988         1           0.01        0.99       1      1   \n",
       "4        0.861348         1           0.06        0.94       1      1   \n",
       "\n",
       "                                                              transcript  \\\n",
       "0  imagine a cigarette with smoke that disappears like this and smell...   \n",
       "1  there's the baron and we're going to show you a couple of things y...   \n",
       "2  as he stepped from his long limousine said Sir Arthur Smith Beverl...   \n",
       "3  welcome to the retail conversion sales team, the objective of this...   \n",
       "4  ladies and Gentlemen please welcome the director of Market plannin...   \n",
       "\n",
       "   category  avg_confidence  \n",
       "0         1        0.849739  \n",
       "1         1        0.827533  \n",
       "2         1        0.912838  \n",
       "3         1        0.856988  \n",
       "4         1        0.861348  "
      ]
     },
     "execution_count": 108,
     "metadata": {},
     "output_type": "execute_result"
    }
   ],
   "source": [
    "tag_results.head()"
   ]
  },
  {
   "cell_type": "code",
   "execution_count": 114,
   "id": "df3cea65",
   "metadata": {},
   "outputs": [],
   "source": [
    "# let's look into where the model missed it\n",
    "df_missed = pysqldf(\"\"\"\n",
    "SELECT \n",
    "    *\n",
    "FROM\n",
    "    tag_results\n",
    "WHERE \n",
    "    category != `y_adj`\n",
    "\"\"\")"
   ]
  },
  {
   "cell_type": "code",
   "execution_count": 116,
   "id": "7856bc32",
   "metadata": {},
   "outputs": [],
   "source": [
    "df_accurate = pysqldf(\"\"\"\n",
    "SELECT \n",
    "    *\n",
    "FROM\n",
    "    tag_results\n",
    "WHERE \n",
    "    category == `y_adj`\n",
    "\"\"\")"
   ]
  },
  {
   "cell_type": "code",
   "execution_count": 123,
   "id": "56d9f20b",
   "metadata": {},
   "outputs": [
    {
     "data": {
      "text/html": [
       "<div>\n",
       "<style scoped>\n",
       "    .dataframe tbody tr th:only-of-type {\n",
       "        vertical-align: middle;\n",
       "    }\n",
       "\n",
       "    .dataframe tbody tr th {\n",
       "        vertical-align: top;\n",
       "    }\n",
       "\n",
       "    .dataframe thead th {\n",
       "        text-align: right;\n",
       "    }\n",
       "</style>\n",
       "<table border=\"1\" class=\"dataframe\">\n",
       "  <thead>\n",
       "    <tr style=\"text-align: right;\">\n",
       "      <th></th>\n",
       "      <th>ID</th>\n",
       "      <th>subject</th>\n",
       "      <th>transcript</th>\n",
       "      <th>avg_confidence</th>\n",
       "      <th>category</th>\n",
       "      <th>prob_no_match</th>\n",
       "      <th>prob_match</th>\n",
       "      <th>y-pred</th>\n",
       "      <th>y_adj</th>\n",
       "    </tr>\n",
       "  </thead>\n",
       "  <tbody>\n",
       "    <tr>\n",
       "      <th>0</th>\n",
       "      <td>xrgp0190</td>\n",
       "      <td>alcohol; commerical; advertisement; promotion</td>\n",
       "      <td>vinyl horse for this year's hits team is thunder thunder, maybe ne...</td>\n",
       "      <td>0.793201</td>\n",
       "      <td>0</td>\n",
       "      <td>0.00</td>\n",
       "      <td>1.00</td>\n",
       "      <td>1</td>\n",
       "      <td>1</td>\n",
       "    </tr>\n",
       "    <tr>\n",
       "      <th>1</th>\n",
       "      <td>xhwm0256</td>\n",
       "      <td>opioids; sales and marketing; physician interview; costs</td>\n",
       "      <td>make a comment about it so the rep saying it she kind of addressed...</td>\n",
       "      <td>0.829267</td>\n",
       "      <td>0</td>\n",
       "      <td>0.07</td>\n",
       "      <td>0.93</td>\n",
       "      <td>1</td>\n",
       "      <td>1</td>\n",
       "    </tr>\n",
       "    <tr>\n",
       "      <th>2</th>\n",
       "      <td>fhwm0256</td>\n",
       "      <td>opioids; coupon program; efficacy; sales and marketing;</td>\n",
       "      <td>tell me what you remember from the detail that happened in Iraq ha...</td>\n",
       "      <td>0.764117</td>\n",
       "      <td>0</td>\n",
       "      <td>0.02</td>\n",
       "      <td>0.98</td>\n",
       "      <td>1</td>\n",
       "      <td>1</td>\n",
       "    </tr>\n",
       "    <tr>\n",
       "      <th>3</th>\n",
       "      <td>jgxh0257</td>\n",
       "      <td>lawsuit; legal activity; litigation; opioids; sales; marketing;</td>\n",
       "      <td>you're back on the record at 141 p.m. good afternoon mr. Webb my n...</td>\n",
       "      <td>0.846447</td>\n",
       "      <td>0</td>\n",
       "      <td>0.44</td>\n",
       "      <td>0.56</td>\n",
       "      <td>1</td>\n",
       "      <td>1</td>\n",
       "    </tr>\n",
       "    <tr>\n",
       "      <th>4</th>\n",
       "      <td>xxmm0006</td>\n",
       "      <td>car manufacturer; lawsuit; product recall; defect</td>\n",
       "      <td>welcome to Larry King live tonight when complains against the make...</td>\n",
       "      <td>0.830116</td>\n",
       "      <td>0</td>\n",
       "      <td>0.13</td>\n",
       "      <td>0.87</td>\n",
       "      <td>1</td>\n",
       "      <td>1</td>\n",
       "    </tr>\n",
       "    <tr>\n",
       "      <th>5</th>\n",
       "      <td>jzhh0257</td>\n",
       "      <td>lawsuit; legal activity; litigation; opioids; sales; marketing</td>\n",
       "      <td>against media number three and the deposition of tithing time on t...</td>\n",
       "      <td>0.842928</td>\n",
       "      <td>0</td>\n",
       "      <td>0.35</td>\n",
       "      <td>0.65</td>\n",
       "      <td>1</td>\n",
       "      <td>1</td>\n",
       "    </tr>\n",
       "    <tr>\n",
       "      <th>6</th>\n",
       "      <td>zgwm0256</td>\n",
       "      <td>opioids; physician interview; sales and marketing</td>\n",
       "      <td>okay just a quick look at the you saw this yesterday as well, at t...</td>\n",
       "      <td>0.851899</td>\n",
       "      <td>0</td>\n",
       "      <td>0.03</td>\n",
       "      <td>0.97</td>\n",
       "      <td>1</td>\n",
       "      <td>1</td>\n",
       "    </tr>\n",
       "    <tr>\n",
       "      <th>7</th>\n",
       "      <td>ffxh0257</td>\n",
       "      <td>lawsuit; legal activity; litigation; opioids; sales; marketing;</td>\n",
       "      <td>on the record at 12:49 p.m., okay before we took a lunch break mrs...</td>\n",
       "      <td>0.852022</td>\n",
       "      <td>0</td>\n",
       "      <td>0.43</td>\n",
       "      <td>0.57</td>\n",
       "      <td>1</td>\n",
       "      <td>1</td>\n",
       "    </tr>\n",
       "    <tr>\n",
       "      <th>8</th>\n",
       "      <td>trfp0190</td>\n",
       "      <td>news; fundraising</td>\n",
       "      <td>for over a quarter of a century despite the technical challenges a...</td>\n",
       "      <td>0.846776</td>\n",
       "      <td>0</td>\n",
       "      <td>0.02</td>\n",
       "      <td>0.98</td>\n",
       "      <td>1</td>\n",
       "      <td>1</td>\n",
       "    </tr>\n",
       "    <tr>\n",
       "      <th>9</th>\n",
       "      <td>ghwm0256</td>\n",
       "      <td>opioids; interview; physician; sales and marketing</td>\n",
       "      <td>let's address the cost issue for a couple of moments she did talk ...</td>\n",
       "      <td>0.791170</td>\n",
       "      <td>0</td>\n",
       "      <td>0.02</td>\n",
       "      <td>0.98</td>\n",
       "      <td>1</td>\n",
       "      <td>1</td>\n",
       "    </tr>\n",
       "    <tr>\n",
       "      <th>10</th>\n",
       "      <td>jhwm0256</td>\n",
       "      <td>opioids; physician interview; constipation; sales and marketing</td>\n",
       "      <td>famouser constipation is a big thing we ovulates this one had smar...</td>\n",
       "      <td>0.794130</td>\n",
       "      <td>0</td>\n",
       "      <td>0.13</td>\n",
       "      <td>0.87</td>\n",
       "      <td>1</td>\n",
       "      <td>1</td>\n",
       "    </tr>\n",
       "    <tr>\n",
       "      <th>11</th>\n",
       "      <td>fgxh0257</td>\n",
       "      <td>lawsuit; legal activity; litigation; opioids; sales; marketing;</td>\n",
       "      <td>back on the record as 551 p.m., so we have no questions for the wi...</td>\n",
       "      <td>0.821801</td>\n",
       "      <td>0</td>\n",
       "      <td>0.03</td>\n",
       "      <td>0.97</td>\n",
       "      <td>1</td>\n",
       "      <td>1</td>\n",
       "    </tr>\n",
       "    <tr>\n",
       "      <th>12</th>\n",
       "      <td>kfwm0256</td>\n",
       "      <td>opioids; sales and marketing; focus group</td>\n",
       "      <td>90% of it is reported numbers program take me can somebody been im...</td>\n",
       "      <td>0.739904</td>\n",
       "      <td>0</td>\n",
       "      <td>0.00</td>\n",
       "      <td>1.00</td>\n",
       "      <td>1</td>\n",
       "      <td>1</td>\n",
       "    </tr>\n",
       "    <tr>\n",
       "      <th>13</th>\n",
       "      <td>tthh0257</td>\n",
       "      <td>lawsuit; legal activity; litigation; opioids; sales; marketing</td>\n",
       "      <td>the time is 6:03 p.m. with a clean record, mr. Morelli you testifi...</td>\n",
       "      <td>0.840525</td>\n",
       "      <td>0</td>\n",
       "      <td>0.16</td>\n",
       "      <td>0.84</td>\n",
       "      <td>1</td>\n",
       "      <td>1</td>\n",
       "    </tr>\n",
       "    <tr>\n",
       "      <th>14</th>\n",
       "      <td>yfxh0257</td>\n",
       "      <td>lawsuit; legal activity; litigation; opioids; sales; marketing</td>\n",
       "      <td>back on the record at 5:47 p.m. mr. Ross do you recall your testim...</td>\n",
       "      <td>0.802291</td>\n",
       "      <td>0</td>\n",
       "      <td>0.21</td>\n",
       "      <td>0.79</td>\n",
       "      <td>1</td>\n",
       "      <td>1</td>\n",
       "    </tr>\n",
       "    <tr>\n",
       "      <th>15</th>\n",
       "      <td>tqph0257</td>\n",
       "      <td>opioids; sales and marketing; fentora; pharmaceutical industry</td>\n",
       "      <td>news reports are coming in from across the country at effervescenc...</td>\n",
       "      <td>0.847476</td>\n",
       "      <td>0</td>\n",
       "      <td>0.13</td>\n",
       "      <td>0.87</td>\n",
       "      <td>1</td>\n",
       "      <td>1</td>\n",
       "    </tr>\n",
       "  </tbody>\n",
       "</table>\n",
       "</div>"
      ],
      "text/plain": [
       "          ID  \\\n",
       "0   xrgp0190   \n",
       "1   xhwm0256   \n",
       "2   fhwm0256   \n",
       "3   jgxh0257   \n",
       "4   xxmm0006   \n",
       "5   jzhh0257   \n",
       "6   zgwm0256   \n",
       "7   ffxh0257   \n",
       "8   trfp0190   \n",
       "9   ghwm0256   \n",
       "10  jhwm0256   \n",
       "11  fgxh0257   \n",
       "12  kfwm0256   \n",
       "13  tthh0257   \n",
       "14  yfxh0257   \n",
       "15  tqph0257   \n",
       "\n",
       "                                                             subject  \\\n",
       "0                      alcohol; commerical; advertisement; promotion   \n",
       "1           opioids; sales and marketing; physician interview; costs   \n",
       "2            opioids; coupon program; efficacy; sales and marketing;   \n",
       "3   lawsuit; legal activity; litigation; opioids; sales; marketing;    \n",
       "4                  car manufacturer; lawsuit; product recall; defect   \n",
       "5     lawsuit; legal activity; litigation; opioids; sales; marketing   \n",
       "6                  opioids; physician interview; sales and marketing   \n",
       "7   lawsuit; legal activity; litigation; opioids; sales; marketing;    \n",
       "8                                                  news; fundraising   \n",
       "9                 opioids; interview; physician; sales and marketing   \n",
       "10   opioids; physician interview; constipation; sales and marketing   \n",
       "11  lawsuit; legal activity; litigation; opioids; sales; marketing;    \n",
       "12                         opioids; sales and marketing; focus group   \n",
       "13    lawsuit; legal activity; litigation; opioids; sales; marketing   \n",
       "14    lawsuit; legal activity; litigation; opioids; sales; marketing   \n",
       "15    opioids; sales and marketing; fentora; pharmaceutical industry   \n",
       "\n",
       "                                                               transcript  \\\n",
       "0   vinyl horse for this year's hits team is thunder thunder, maybe ne...   \n",
       "1   make a comment about it so the rep saying it she kind of addressed...   \n",
       "2   tell me what you remember from the detail that happened in Iraq ha...   \n",
       "3   you're back on the record at 141 p.m. good afternoon mr. Webb my n...   \n",
       "4   welcome to Larry King live tonight when complains against the make...   \n",
       "5   against media number three and the deposition of tithing time on t...   \n",
       "6   okay just a quick look at the you saw this yesterday as well, at t...   \n",
       "7   on the record at 12:49 p.m., okay before we took a lunch break mrs...   \n",
       "8   for over a quarter of a century despite the technical challenges a...   \n",
       "9   let's address the cost issue for a couple of moments she did talk ...   \n",
       "10  famouser constipation is a big thing we ovulates this one had smar...   \n",
       "11  back on the record as 551 p.m., so we have no questions for the wi...   \n",
       "12  90% of it is reported numbers program take me can somebody been im...   \n",
       "13  the time is 6:03 p.m. with a clean record, mr. Morelli you testifi...   \n",
       "14  back on the record at 5:47 p.m. mr. Ross do you recall your testim...   \n",
       "15  news reports are coming in from across the country at effervescenc...   \n",
       "\n",
       "    avg_confidence  category  prob_no_match  prob_match  y-pred  y_adj  \n",
       "0         0.793201         0           0.00        1.00       1      1  \n",
       "1         0.829267         0           0.07        0.93       1      1  \n",
       "2         0.764117         0           0.02        0.98       1      1  \n",
       "3         0.846447         0           0.44        0.56       1      1  \n",
       "4         0.830116         0           0.13        0.87       1      1  \n",
       "5         0.842928         0           0.35        0.65       1      1  \n",
       "6         0.851899         0           0.03        0.97       1      1  \n",
       "7         0.852022         0           0.43        0.57       1      1  \n",
       "8         0.846776         0           0.02        0.98       1      1  \n",
       "9         0.791170         0           0.02        0.98       1      1  \n",
       "10        0.794130         0           0.13        0.87       1      1  \n",
       "11        0.821801         0           0.03        0.97       1      1  \n",
       "12        0.739904         0           0.00        1.00       1      1  \n",
       "13        0.840525         0           0.16        0.84       1      1  \n",
       "14        0.802291         0           0.21        0.79       1      1  \n",
       "15        0.847476         0           0.13        0.87       1      1  "
      ]
     },
     "execution_count": 123,
     "metadata": {},
     "output_type": "execute_result"
    }
   ],
   "source": [
    "df_missed"
   ]
  },
  {
   "cell_type": "code",
   "execution_count": 121,
   "id": "24f1424e",
   "metadata": {},
   "outputs": [
    {
     "data": {
      "text/plain": [
       "count    157.000000\n",
       "mean       0.837999\n",
       "std        0.054845\n",
       "min        0.358044\n",
       "25%        0.824442\n",
       "50%        0.842276\n",
       "75%        0.860647\n",
       "max        0.912839\n",
       "Name: avg_confidence, dtype: float64"
      ]
     },
     "execution_count": 121,
     "metadata": {},
     "output_type": "execute_result"
    }
   ],
   "source": [
    "df_accurate.describe()['avg_confidence']"
   ]
  },
  {
   "cell_type": "code",
   "execution_count": 122,
   "id": "bf84f505",
   "metadata": {},
   "outputs": [
    {
     "data": {
      "text/plain": [
       "count    16.000000\n",
       "mean      0.818379\n",
       "std       0.034040\n",
       "min       0.739904\n",
       "25%       0.793898\n",
       "50%       0.829692\n",
       "75%       0.846529\n",
       "max       0.852022\n",
       "Name: avg_confidence, dtype: float64"
      ]
     },
     "execution_count": 122,
     "metadata": {},
     "output_type": "execute_result"
    }
   ],
   "source": [
    "df_missed.describe()['avg_confidence']"
   ]
  },
  {
   "cell_type": "code",
   "execution_count": 110,
   "id": "a67264a9",
   "metadata": {},
   "outputs": [],
   "source": [
    "y_pred = text_clf.predict(df_test[text_source])"
   ]
  },
  {
   "cell_type": "code",
   "execution_count": 111,
   "id": "7860b1f8",
   "metadata": {},
   "outputs": [],
   "source": [
    "# everything below this line will vary based on the run"
   ]
  },
  {
   "cell_type": "code",
   "execution_count": 112,
   "id": "b8e84b92",
   "metadata": {},
   "outputs": [
    {
     "name": "stdout",
     "output_type": "stream",
     "text": [
      "Precision: 0.904 / Recall: 1.0 / Accuracy: 0.906 / fscore: 0.95\n"
     ]
    }
   ],
   "source": [
    "precision, recall, fscore, train_support = precision_recall_fscore_support(df_test['category'], y_adj, pos_label=1, average='binary')\n",
    "print('Precision: {} / Recall: {} / Accuracy: {} / fscore: {}'.format(\n",
    "    round(precision, 3), round(recall, 3), (round((y_pred==df_test['category']).sum()/len(y_adj), 3)), round(fscore, 3)))"
   ]
  },
  {
   "cell_type": "code",
   "execution_count": 113,
   "id": "ba8b89f8",
   "metadata": {},
   "outputs": [
    {
     "name": "stdout",
     "output_type": "stream",
     "text": [
      "f-score 0.949685534591195\n"
     ]
    }
   ],
   "source": [
    "print('f-score', 2 * ((precision * recall) / (precision + recall)))"
   ]
  },
  {
   "cell_type": "code",
   "execution_count": null,
   "id": "2b408722",
   "metadata": {},
   "outputs": [],
   "source": []
  },
  {
   "cell_type": "code",
   "execution_count": null,
   "id": "42f887d6",
   "metadata": {},
   "outputs": [],
   "source": []
  }
 ],
 "metadata": {
  "kernelspec": {
   "display_name": "Python 3 (ipykernel)",
   "language": "python",
   "name": "python3"
  },
  "language_info": {
   "codemirror_mode": {
    "name": "ipython",
    "version": 3
   },
   "file_extension": ".py",
   "mimetype": "text/x-python",
   "name": "python",
   "nbconvert_exporter": "python",
   "pygments_lexer": "ipython3",
   "version": "3.10.9"
  }
 },
 "nbformat": 4,
 "nbformat_minor": 5
}
